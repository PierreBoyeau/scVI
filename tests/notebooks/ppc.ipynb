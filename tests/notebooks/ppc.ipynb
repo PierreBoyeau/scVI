{
 "cells": [
  {
   "cell_type": "code",
   "execution_count": 1,
   "metadata": {},
   "outputs": [
    {
     "name": "stderr",
     "output_type": "stream",
     "text": [
      "/home/pierre/miniconda3/envs/scvi/lib/python3.6/site-packages/scikit_learn-0.19.2-py3.6-linux-x86_64.egg/sklearn/ensemble/weight_boosting.py:29: DeprecationWarning: numpy.core.umath_tests is an internal NumPy module and should not be imported. It will be removed in a future NumPy release.\n",
      "  from numpy.core.umath_tests import inner1d\n"
     ]
    }
   ],
   "source": [
    "n_epochs_all = None\n",
    "save_path = 'data/'\n",
    "show_plot = True\n",
    "\n",
    "import os\n",
    "import numpy as np\n",
    "import pandas as pd\n",
    "from sklearn.manifold import TSNE\n",
    "import matplotlib.pyplot as plt\n",
    "from matplotlib import gridspec\n",
    "from scvi.dataset import GeneExpressionDataset, CortexDataset, RetinaDataset, BrainLargeDataset, HematoDataset, CbmcDataset, SyntheticDataset, SyntheticRandomDataset, PbmcDataset, BrainSmallDataset\n",
    "from scvi.models import VAE\n",
    "from scvi.inference import UnsupervisedTrainer, AdapterTrainer"
   ]
  },
  {
   "cell_type": "code",
   "execution_count": 2,
   "metadata": {},
   "outputs": [
    {
     "name": "stdout",
     "output_type": "stream",
     "text": [
      "File data/HEMATO/bBM.raw_umifm_counts.csv.gz already downloaded\n",
      "File data/HEMATO/data.zip already downloaded\n",
      "Preprocessing Hemato data\n",
      "Finished preprocessing Hemato data\n"
     ]
    }
   ],
   "source": [
    "# my_dataset = BrainSmallDataset(save_path=save_path)\n",
    "# my_dataset = CortexDataset()\n",
    "my_dataset = HematoDataset()\n",
    "my_dataset_name = 'hemato'\n",
    "\n",
    "save_path = '/home/pierre/scVI/results/ppc_figs'"
   ]
  },
  {
   "cell_type": "code",
   "execution_count": 3,
   "metadata": {},
   "outputs": [],
   "source": [
    "# set hyperparameters \n",
    "from scvi.inference import UnsupervisedTrainer\n",
    "n_epochs=120\n",
    "lr=0.0004\n",
    "use_batches=False\n",
    "use_cuda=True\n",
    "verbose = False\n",
    "infer_batch_size = 32\n",
    "\n",
    "n_samples_posterior_density= 100 # 250 is scVI-reproducibility"
   ]
  },
  {
   "cell_type": "markdown",
   "metadata": {},
   "source": [
    "## Train the models"
   ]
  },
  {
   "cell_type": "code",
   "execution_count": null,
   "metadata": {},
   "outputs": [
    {
     "name": "stdout",
     "output_type": "stream",
     "text": [
      "training: 100%|██████████| 120/120 [01:35<00:00,  1.20it/s]\n"
     ]
    }
   ],
   "source": [
    "zi_vae = VAE(my_dataset.nb_genes, n_batch=my_dataset.n_batches * use_batches, dropout_rate=0.2,\n",
    "             reconstruction_loss='zinb')\n",
    "my_zi_trainer = UnsupervisedTrainer(zi_vae, \n",
    "                                    my_dataset,\n",
    "                                    train_size=1.0,\n",
    "                                    use_cuda=use_cuda,\n",
    "                                    kl=1, verbose=verbose, frequency=None)\n",
    "my_zi_trainer.train(n_epochs=n_epochs, lr=lr, eps=0.01) "
   ]
  },
  {
   "cell_type": "code",
   "execution_count": null,
   "metadata": {},
   "outputs": [
    {
     "data": {
      "text/plain": [
       "7397"
      ]
     },
     "execution_count": 5,
     "metadata": {},
     "output_type": "execute_result"
    }
   ],
   "source": [
    "len(my_zi_trainer.train_set.gene_dataset.gene_names)"
   ]
  },
  {
   "cell_type": "code",
   "execution_count": null,
   "metadata": {},
   "outputs": [
    {
     "name": "stdout",
     "output_type": "stream",
     "text": [
      "training: 100%|██████████| 120/120 [01:28<00:00,  1.00s/it]\n"
     ]
    }
   ],
   "source": [
    "# train the model\n",
    "nb_vae = VAE(my_dataset.nb_genes, n_batch=my_dataset.n_batches * use_batches, dropout_rate=0.2,\n",
    "             reconstruction_loss='nb')\n",
    "my_nb_trainer = UnsupervisedTrainer(nb_vae, \n",
    "                                    my_dataset,\n",
    "                                    train_size=1.0,\n",
    "                                    use_cuda=use_cuda,\n",
    "                                    kl=1)\n",
    "my_nb_trainer.train(n_epochs=n_epochs, lr=lr, eps=0.01)"
   ]
  },
  {
   "cell_type": "markdown",
   "metadata": {},
   "source": [
    "## PPC for gene expression"
   ]
  },
  {
   "cell_type": "markdown",
   "metadata": {},
   "source": [
    "#### Zero-inflated"
   ]
  },
  {
   "cell_type": "code",
   "execution_count": null,
   "metadata": {},
   "outputs": [],
   "source": [
    "x_zi_gen, x01 = my_zi_trainer.train_set.generate(genes=None, \n",
    "                                                 n_samples=n_samples_posterior_density, zero_inflated=True, batch_size=infer_batch_size)\n",
    "x_zi_gen = x_zi_gen.squeeze()"
   ]
  },
  {
   "cell_type": "markdown",
   "metadata": {},
   "source": [
    "#### No zero-inflated "
   ]
  },
  {
   "cell_type": "code",
   "execution_count": null,
   "metadata": {},
   "outputs": [],
   "source": [
    "x_nb_gen, x02 = my_nb_trainer.train_set.generate(genes=None, n_samples=n_samples_posterior_density, zero_inflated=False, batch_size=infer_batch_size)\n",
    "x_nb_gen = x_nb_gen.squeeze()"
   ]
  },
  {
   "cell_type": "markdown",
   "metadata": {},
   "source": [
    "**Warning**: x01 and x02 are supposed to be the same arrays. Histogram plots show that they have the same distributions, however their values are not in the same order. However, statistic tests should be invariant to such an order."
   ]
  },
  {
   "cell_type": "code",
   "execution_count": null,
   "metadata": {},
   "outputs": [],
   "source": [
    "phi_name = 'ratio_zero_mean'"
   ]
  },
  {
   "cell_type": "code",
   "execution_count": null,
   "metadata": {},
   "outputs": [],
   "source": [
    "def phi(array, axis=None):\n",
    "    nb_zeros = (array.astype(int) == 0).sum(axis=axis)\n",
    "    \n",
    "    nb_non_zeros = (array.astype(int) != 0).sum(axis=axis)\n",
    "    avg_expression = array.sum(axis=axis) / nb_non_zeros\n",
    "    \n",
    "    return nb_zeros / avg_expression"
   ]
  },
  {
   "cell_type": "code",
   "execution_count": null,
   "metadata": {},
   "outputs": [],
   "source": [
    "# def phi(array, axis=None):\n",
    "#     nb_zeros = (array.astype(int) != 0).sum(axis=axis)\n",
    "#     return nb_zeros"
   ]
  },
  {
   "cell_type": "code",
   "execution_count": null,
   "metadata": {},
   "outputs": [],
   "source": [
    "# def phi(array, axis=None):\n",
    "    \n",
    "#     nb_zeros = (array.astype(int) == 0).sum(axis=axis)\n",
    "    \n",
    "#     return nb_zeros"
   ]
  },
  {
   "cell_type": "code",
   "execution_count": null,
   "metadata": {},
   "outputs": [],
   "source": [
    "x_zi_gen.shape, x_nb_gen.shape, x01.shape"
   ]
  },
  {
   "cell_type": "code",
   "execution_count": null,
   "metadata": {},
   "outputs": [],
   "source": [
    "phi_real_cell = phi(x01, axis=1)\n",
    "phi_real_gene = phi(x01, axis=0)\n",
    "\n",
    "phi_zi_gen_cell = phi(x_zi_gen, axis=1)\n",
    "phi_nb_gen_cell = phi(x_nb_gen, axis=1)\n",
    "\n",
    "phi_zi_gen_gene = phi(x_zi_gen, axis=0)\n",
    "phi_nb_gen_gene = phi(x_nb_gen, axis=0)"
   ]
  },
  {
   "cell_type": "code",
   "execution_count": null,
   "metadata": {},
   "outputs": [],
   "source": [
    "# plt.hist(phi_real_gene)\n",
    "# plt.show()\n",
    "# plt.hist(phi_zi_gen_gene[0])\n",
    "# plt.show()\n",
    "# plt.hist(phi_nb_gen_gene[0])\n",
    "# plt.show()\n"
   ]
  },
  {
   "cell_type": "code",
   "execution_count": null,
   "metadata": {},
   "outputs": [],
   "source": [
    "print(phi_real_cell)"
   ]
  },
  {
   "cell_type": "code",
   "execution_count": null,
   "metadata": {},
   "outputs": [],
   "source": [
    "print(phi_nb_gen_cell)"
   ]
  },
  {
   "cell_type": "code",
   "execution_count": null,
   "metadata": {},
   "outputs": [],
   "source": [
    "print(phi_zi_gen_cell)"
   ]
  },
  {
   "cell_type": "code",
   "execution_count": null,
   "metadata": {},
   "outputs": [],
   "source": [
    "# print(phi_real_cell.shape, phi_real_gene.shape)\n",
    "# print(phi_nb_gen_cell.shape, phi_zi_gen_cell.shape)\n",
    "# print(phi_nb_gen_gene.shape, phi_zi_gen_gene.shape)"
   ]
  },
  {
   "cell_type": "code",
   "execution_count": null,
   "metadata": {},
   "outputs": [],
   "source": [
    "from scipy.stats.mstats import ks_2samp\n",
    "\n",
    "def compute_ks_ppc(real_data, gen_data):\n",
    "    ks = []\n",
    "    for col in range(gen_data.shape[1]):\n",
    "        ks_iter = ks_2samp(real_data, gen_data[:, col])\n",
    "        ks.append(ks_iter)\n",
    "    return np.array(ks) "
   ]
  },
  {
   "cell_type": "code",
   "execution_count": null,
   "metadata": {},
   "outputs": [],
   "source": [
    "from scipy.stats.mstats import ks_2samp\n",
    "\n",
    "ks_zi_cell = compute_ks_ppc(phi_real_cell, phi_zi_gen_cell)\n",
    "ks_zi_gene = compute_ks_ppc(phi_real_gene, phi_zi_gen_gene)\n",
    "\n",
    "ks_nb_cell = compute_ks_ppc(phi_real_cell, phi_nb_gen_cell)\n",
    "ks_nb_gene = compute_ks_ppc(phi_real_gene, phi_nb_gen_gene)"
   ]
  },
  {
   "cell_type": "code",
   "execution_count": null,
   "metadata": {},
   "outputs": [],
   "source": [
    "import seaborn as sns\n",
    "sns.set()\n",
    "\n",
    "fig, axes = plt.subplots(nrows=2, sharex=True, figsize=(8, 5))\n",
    "plt.sca(axes[0])\n",
    "sns.boxplot(x=ks_zi_cell, color='cyan')\n",
    "plt.title('Synthetic ZINB')\n",
    "\n",
    "plt.sca(axes[1])\n",
    "sns.boxplot(x=ks_nb_cell, color='salmon')\n",
    "plt.title('Synthetic NB')\n",
    "\n",
    "fig.suptitle('{} - KS distribution {} - Fixed cell'.format(my_dataset_name, phi_name), fontsize=16)\n",
    "plt.savefig(os.path.join(save_path, '{}_{}_ks_cell.png'.format(my_dataset_name, phi_name)))"
   ]
  },
  {
   "cell_type": "code",
   "execution_count": null,
   "metadata": {},
   "outputs": [],
   "source": [
    "fig, axes = plt.subplots(nrows=2, sharex=True, figsize=(8, 5))\n",
    "plt.sca(axes[0])\n",
    "sns.boxplot(x=ks_zi_gene, color='cyan')\n",
    "plt.title('Synthetic ZINB')\n",
    "\n",
    "plt.sca(axes[1])\n",
    "sns.boxplot(x=ks_nb_gene, color='salmon')\n",
    "plt.title('Synthetic NB')\n",
    "\n",
    "fig.suptitle('{} - KS distribution {} - Fixed gene'.format(my_dataset_name, phi_name), fontsize=16)\n",
    "plt.savefig(os.path.join(save_path, '{}_{}_ks_gene.png'.format(my_dataset_name, phi_name)))"
   ]
  },
  {
   "cell_type": "code",
   "execution_count": null,
   "metadata": {},
   "outputs": [],
   "source": [
    "fig, axes = plt.subplots(nrows=3, sharex=True, figsize=(8, 5))\n",
    "plt.sca(axes[0])\n",
    "sns.violinplot(x=phi_real_cell, color='olive')\n",
    "plt.title('Real Data')\n",
    "\n",
    "plt.sca(axes[1])\n",
    "sns.violinplot(x=phi_zi_gen_cell.mean(axis=1), color='cyan')\n",
    "plt.title('Synthetic ZINB: KS= {0:.6g} +- {1:.6g}'.format(ks_zi_cell.mean() , ks_zi_cell.std()))\n",
    "\n",
    "plt.sca(axes[2])\n",
    "sns.violinplot(x=phi_nb_gen_cell.mean(axis=1), color='salmon')\n",
    "plt.title('Synthetic NB: KS= {0:.6g} +- {1:.6g}'.format(ks_nb_cell.mean(), ks_nb_cell.std()))\n",
    "\n",
    "fig.suptitle('{} - {} distributions - Fixed cell'.format(my_dataset_name, phi_name), fontsize=16)\n",
    "plt.savefig(os.path.join(save_path, '{}_{}_phi_cell.png'.format(my_dataset_name, phi_name)))\n"
   ]
  },
  {
   "cell_type": "code",
   "execution_count": null,
   "metadata": {},
   "outputs": [],
   "source": [
    "fig, axes = plt.subplots(nrows=3, sharex=True, figsize=(8, 5))\n",
    "plt.sca(axes[0])\n",
    "sns.violinplot(x=phi_real_gene, color='olive')\n",
    "plt.title('Real Data')\n",
    "\n",
    "plt.sca(axes[1])\n",
    "sns.violinplot(x=phi_zi_gen_gene.mean(axis=1), color='cyan')\n",
    "plt.title('Synthetic ZINB: KS= {0:.6g} +- {1:.6g}'.format(ks_zi_gene.mean() , ks_zi_gene.std()))\n",
    "\n",
    "plt.sca(axes[2])\n",
    "sns.violinplot(x=phi_nb_gen_gene.mean(axis=1), color='salmon')\n",
    "plt.title('Synthetic NB: KS= {0:.6g} +- {1:.6g}'.format(ks_nb_gene.mean(), ks_nb_gene.std()))\n",
    "\n",
    "fig.suptitle('{} - {} distributions - Fixed gene'.format(my_dataset_name, phi_name), fontsize=16)\n",
    "plt.savefig(os.path.join(save_path, '{}_{}_phi_gene.png'.format(my_dataset_name, phi_name)))\n"
   ]
  }
 ],
 "metadata": {
  "kernelspec": {
   "display_name": "Python [conda env:scvi] *",
   "language": "python",
   "name": "conda-env-scvi-py"
  },
  "language_info": {
   "codemirror_mode": {
    "name": "ipython",
    "version": 3
   },
   "file_extension": ".py",
   "mimetype": "text/x-python",
   "name": "python",
   "nbconvert_exporter": "python",
   "pygments_lexer": "ipython3",
   "version": "3.6.7"
  }
 },
 "nbformat": 4,
 "nbformat_minor": 2
}
