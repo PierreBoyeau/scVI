{
 "cells": [
  {
   "cell_type": "code",
   "execution_count": 18,
   "metadata": {},
   "outputs": [],
   "source": [
    "import glob\n",
    "import pandas as pd\n",
    "import os\n",
    "import numpy as np\n",
    "from IPython.display import HTML"
   ]
  },
  {
   "cell_type": "code",
   "execution_count": 9,
   "metadata": {},
   "outputs": [
    {
     "name": "stdout",
     "output_type": "stream",
     "text": [
      "brain_small  mixed_25_dataset  mixed_75_dataset  retina\n",
      "cortex\t     mixed_50_dataset  nb_dataset\t zinb_dataset\n"
     ]
    }
   ],
   "source": [
    "!ls /home/pierre/scVI/results/models_comparison/"
   ]
  },
  {
   "cell_type": "code",
   "execution_count": 20,
   "metadata": {},
   "outputs": [
    {
     "name": "stdout",
     "output_type": "stream",
     "text": [
      "['/home/pierre/scVI/results/models_comparison/nb_dataset/zifa_half_nb_dataset.csv', '/home/pierre/scVI/results/models_comparison/nb_dataset/nb_nb_dataset.csv', '/home/pierre/scVI/results/models_comparison/nb_dataset/zinb_nb_dataset.csv']\n"
     ]
    }
   ],
   "source": [
    "data_files = glob.glob('/home/pierre/scVI/results/models_comparison/{}/*.csv'.format('nb_dataset'))\n",
    "print(data_files)\n",
    "data_folder = '/home/pierre/scVI/results/models_comparison/{}'.format('nb_dataset')\n",
    "data_names = ['zifa_full', 'nb', 'zinb']"
   ]
  },
  {
   "cell_type": "code",
   "execution_count": 11,
   "metadata": {},
   "outputs": [],
   "source": [
    "dfs = []\n",
    "for data_name, f in zip(data_names, data_files):\n",
    "    my_df = pd.read_csv(f, sep='\\t')\n",
    "    my_df.loc[:, 'model'] = data_name\n",
    "#     my_df.columns = [data_name + '_' col_name for col_name in my_df.columns]\n",
    "    dfs.append(my_df)\n",
    "df = pd.concat(dfs, axis=0)\n",
    "# df.info()"
   ]
  },
  {
   "cell_type": "code",
   "execution_count": 12,
   "metadata": {},
   "outputs": [
    {
     "name": "stderr",
     "output_type": "stream",
     "text": [
      "/home/pierre/miniconda3/envs/scvi/lib/python3.6/site-packages/statsmodels/stats/weightstats.py:616: RuntimeWarning: invalid value encountered in double_scalars\n",
      "  tstat = (value1 - value2 - diff) / std_diff\n"
     ]
    }
   ],
   "source": [
    "metrics = ['ll_ll', 'imputation_median_imputation_score', 't_dropout_ks_stat', 't_ratio_ks_stat', 't_cv_ks_stat']\n",
    "h1_hypothesis = ['larger', 'larger', 'larger', 'larger', 'larger']\n",
    "df_nb = df.loc[df.model=='nb', metrics]\n",
    "\n",
    "from statsmodels.stats.weightstats import ttest_ind\n",
    "\n",
    "def get_pvals(gby):\n",
    "    my_df = gby[metrics]\n",
    "    assert my_df.shape[1] == len(metrics)\n",
    "    pvals = []\n",
    "    for idx, alternative in enumerate(h1_hypothesis):\n",
    "        assert len(df_nb.values[:, idx]) != len(h1_hypothesis)\n",
    "        _, pval, _ = ttest_ind(df_nb.values[:, idx], my_df.values[:, idx], alternative=alternative)\n",
    "        pvals.append(pval)\n",
    "    return np.array(pvals)\n",
    "\n",
    "pvals = df.groupby('model').apply(get_pvals)\n",
    "pvals = (pvals\n",
    "         .apply(lambda x: pd.Series(x))\n",
    "         .T)\n",
    "pvals = pvals.rename(index={idx: met for (idx,met) in enumerate(metrics)})"
   ]
  },
  {
   "cell_type": "code",
   "execution_count": 13,
   "metadata": {},
   "outputs": [
    {
     "name": "stdout",
     "output_type": "stream",
     "text": [
      "pvals    0.5\n",
      "Name: (imputation_median_imputation_score, nb), dtype: float64\n",
      "pvals    0.980205\n",
      "Name: (imputation_median_imputation_score, zifa_half), dtype: float64\n",
      "pvals    0.970934\n",
      "Name: (imputation_median_imputation_score, zinb), dtype: float64\n",
      "pvals    0.5\n",
      "Name: (ll_ll, nb), dtype: float64\n",
      "pvals    5.129570e-10\n",
      "Name: (ll_ll, zifa_half), dtype: float64\n",
      "pvals    0.138175\n",
      "Name: (ll_ll, zinb), dtype: float64\n",
      "pvals   NaN\n",
      "Name: (t_cv_ks_stat, nb), dtype: float64\n",
      "pvals    0.077221\n",
      "Name: (t_cv_ks_stat, zifa_half), dtype: float64\n",
      "pvals   NaN\n",
      "Name: (t_cv_ks_stat, zinb), dtype: float64\n",
      "pvals    0.5\n",
      "Name: (t_dropout_ks_stat, nb), dtype: float64\n",
      "pvals    1.0\n",
      "Name: (t_dropout_ks_stat, zifa_half), dtype: float64\n",
      "pvals    1.0\n",
      "Name: (t_dropout_ks_stat, zinb), dtype: float64\n",
      "pvals    0.5\n",
      "Name: (t_ratio_ks_stat, nb), dtype: float64\n",
      "pvals    1.0\n",
      "Name: (t_ratio_ks_stat, zifa_half), dtype: float64\n",
      "pvals    0.999572\n",
      "Name: (t_ratio_ks_stat, zinb), dtype: float64\n"
     ]
    },
    {
     "data": {
      "text/html": [
       "<style  type=\"text/css\" >\n",
       "    #T_4953149c_6562_11e9_a9f2_b46d83852843row4_col2 {\n",
       "            background-color:  yellow;\n",
       "        }</style><table id=\"T_4953149c_6562_11e9_a9f2_b46d83852843\" ><thead>    <tr>        <th class=\"blank\" ></th>        <th class=\"blank level0\" ></th>        <th class=\"col_heading level0 col0\" >mean</th>        <th class=\"col_heading level0 col1\" >std</th>        <th class=\"col_heading level0 col2\" >pvals</th>    </tr>    <tr>        <th class=\"index_name level0\" ></th>        <th class=\"index_name level1\" >model</th>        <th class=\"blank\" ></th>        <th class=\"blank\" ></th>        <th class=\"blank\" ></th>    </tr></thead><tbody>\n",
       "                <tr>\n",
       "                        <th id=\"T_4953149c_6562_11e9_a9f2_b46d83852843level0_row0\" class=\"row_heading level0 row0\" rowspan=3>imputation_median_imputation_score</th>\n",
       "                        <th id=\"T_4953149c_6562_11e9_a9f2_b46d83852843level1_row0\" class=\"row_heading level1 row0\" >nb</th>\n",
       "                        <td id=\"T_4953149c_6562_11e9_a9f2_b46d83852843row0_col0\" class=\"data row0 col0\" >5.41659</td>\n",
       "                        <td id=\"T_4953149c_6562_11e9_a9f2_b46d83852843row0_col1\" class=\"data row0 col1\" >2.70834</td>\n",
       "                        <td id=\"T_4953149c_6562_11e9_a9f2_b46d83852843row0_col2\" class=\"data row0 col2\" >0.5</td>\n",
       "            </tr>\n",
       "            <tr>\n",
       "                                <th id=\"T_4953149c_6562_11e9_a9f2_b46d83852843level1_row1\" class=\"row_heading level1 row1\" >zifa_half</th>\n",
       "                        <td id=\"T_4953149c_6562_11e9_a9f2_b46d83852843row1_col0\" class=\"data row1 col0\" >9.01702</td>\n",
       "                        <td id=\"T_4953149c_6562_11e9_a9f2_b46d83852843row1_col1\" class=\"data row1 col1\" >7.05254</td>\n",
       "                        <td id=\"T_4953149c_6562_11e9_a9f2_b46d83852843row1_col2\" class=\"data row1 col2\" >0.980205</td>\n",
       "            </tr>\n",
       "            <tr>\n",
       "                                <th id=\"T_4953149c_6562_11e9_a9f2_b46d83852843level1_row2\" class=\"row_heading level1 row2\" >zinb</th>\n",
       "                        <td id=\"T_4953149c_6562_11e9_a9f2_b46d83852843row2_col0\" class=\"data row2 col0\" >7.09855</td>\n",
       "                        <td id=\"T_4953149c_6562_11e9_a9f2_b46d83852843row2_col1\" class=\"data row2 col1\" >2.73656</td>\n",
       "                        <td id=\"T_4953149c_6562_11e9_a9f2_b46d83852843row2_col2\" class=\"data row2 col2\" >0.970934</td>\n",
       "            </tr>\n",
       "            <tr>\n",
       "                        <th id=\"T_4953149c_6562_11e9_a9f2_b46d83852843level0_row3\" class=\"row_heading level0 row3\" rowspan=3>ll_ll</th>\n",
       "                        <th id=\"T_4953149c_6562_11e9_a9f2_b46d83852843level1_row3\" class=\"row_heading level1 row3\" >nb</th>\n",
       "                        <td id=\"T_4953149c_6562_11e9_a9f2_b46d83852843row3_col0\" class=\"data row3 col0\" >4077.3</td>\n",
       "                        <td id=\"T_4953149c_6562_11e9_a9f2_b46d83852843row3_col1\" class=\"data row3 col1\" >1952.03</td>\n",
       "                        <td id=\"T_4953149c_6562_11e9_a9f2_b46d83852843row3_col2\" class=\"data row3 col2\" >0.5</td>\n",
       "            </tr>\n",
       "            <tr>\n",
       "                                <th id=\"T_4953149c_6562_11e9_a9f2_b46d83852843level1_row4\" class=\"row_heading level1 row4\" >zifa_half</th>\n",
       "                        <td id=\"T_4953149c_6562_11e9_a9f2_b46d83852843row4_col0\" class=\"data row4 col0\" >565.729</td>\n",
       "                        <td id=\"T_4953149c_6562_11e9_a9f2_b46d83852843row4_col1\" class=\"data row4 col1\" >99.0864</td>\n",
       "                        <td id=\"T_4953149c_6562_11e9_a9f2_b46d83852843row4_col2\" class=\"data row4 col2\" >5.12957e-10</td>\n",
       "            </tr>\n",
       "            <tr>\n",
       "                                <th id=\"T_4953149c_6562_11e9_a9f2_b46d83852843level1_row5\" class=\"row_heading level1 row5\" >zinb</th>\n",
       "                        <td id=\"T_4953149c_6562_11e9_a9f2_b46d83852843row5_col0\" class=\"data row5 col0\" >3335.92</td>\n",
       "                        <td id=\"T_4953149c_6562_11e9_a9f2_b46d83852843row5_col1\" class=\"data row5 col1\" >2280.73</td>\n",
       "                        <td id=\"T_4953149c_6562_11e9_a9f2_b46d83852843row5_col2\" class=\"data row5 col2\" >0.138175</td>\n",
       "            </tr>\n",
       "            <tr>\n",
       "                        <th id=\"T_4953149c_6562_11e9_a9f2_b46d83852843level0_row6\" class=\"row_heading level0 row6\" rowspan=3>t_cv_ks_stat</th>\n",
       "                        <th id=\"T_4953149c_6562_11e9_a9f2_b46d83852843level1_row6\" class=\"row_heading level1 row6\" >nb</th>\n",
       "                        <td id=\"T_4953149c_6562_11e9_a9f2_b46d83852843row6_col0\" class=\"data row6 col0\" >1</td>\n",
       "                        <td id=\"T_4953149c_6562_11e9_a9f2_b46d83852843row6_col1\" class=\"data row6 col1\" >0</td>\n",
       "                        <td id=\"T_4953149c_6562_11e9_a9f2_b46d83852843row6_col2\" class=\"data row6 col2\" >nan</td>\n",
       "            </tr>\n",
       "            <tr>\n",
       "                                <th id=\"T_4953149c_6562_11e9_a9f2_b46d83852843level1_row7\" class=\"row_heading level1 row7\" >zifa_half</th>\n",
       "                        <td id=\"T_4953149c_6562_11e9_a9f2_b46d83852843row7_col0\" class=\"data row7 col0\" >0.999</td>\n",
       "                        <td id=\"T_4953149c_6562_11e9_a9f2_b46d83852843row7_col1\" class=\"data row7 col1\" >0.00307794</td>\n",
       "                        <td id=\"T_4953149c_6562_11e9_a9f2_b46d83852843row7_col2\" class=\"data row7 col2\" >0.0772209</td>\n",
       "            </tr>\n",
       "            <tr>\n",
       "                                <th id=\"T_4953149c_6562_11e9_a9f2_b46d83852843level1_row8\" class=\"row_heading level1 row8\" >zinb</th>\n",
       "                        <td id=\"T_4953149c_6562_11e9_a9f2_b46d83852843row8_col0\" class=\"data row8 col0\" >1</td>\n",
       "                        <td id=\"T_4953149c_6562_11e9_a9f2_b46d83852843row8_col1\" class=\"data row8 col1\" >0</td>\n",
       "                        <td id=\"T_4953149c_6562_11e9_a9f2_b46d83852843row8_col2\" class=\"data row8 col2\" >nan</td>\n",
       "            </tr>\n",
       "            <tr>\n",
       "                        <th id=\"T_4953149c_6562_11e9_a9f2_b46d83852843level0_row9\" class=\"row_heading level0 row9\" rowspan=3>t_dropout_ks_stat</th>\n",
       "                        <th id=\"T_4953149c_6562_11e9_a9f2_b46d83852843level1_row9\" class=\"row_heading level1 row9\" >nb</th>\n",
       "                        <td id=\"T_4953149c_6562_11e9_a9f2_b46d83852843row9_col0\" class=\"data row9 col0\" >0.4295</td>\n",
       "                        <td id=\"T_4953149c_6562_11e9_a9f2_b46d83852843row9_col1\" class=\"data row9 col1\" >0.0976285</td>\n",
       "                        <td id=\"T_4953149c_6562_11e9_a9f2_b46d83852843row9_col2\" class=\"data row9 col2\" >0.5</td>\n",
       "            </tr>\n",
       "            <tr>\n",
       "                                <th id=\"T_4953149c_6562_11e9_a9f2_b46d83852843level1_row10\" class=\"row_heading level1 row10\" >zifa_half</th>\n",
       "                        <td id=\"T_4953149c_6562_11e9_a9f2_b46d83852843row10_col0\" class=\"data row10 col0\" >0.97</td>\n",
       "                        <td id=\"T_4953149c_6562_11e9_a9f2_b46d83852843row10_col1\" class=\"data row10 col1\" >0.0661736</td>\n",
       "                        <td id=\"T_4953149c_6562_11e9_a9f2_b46d83852843row10_col2\" class=\"data row10 col2\" >1</td>\n",
       "            </tr>\n",
       "            <tr>\n",
       "                                <th id=\"T_4953149c_6562_11e9_a9f2_b46d83852843level1_row11\" class=\"row_heading level1 row11\" >zinb</th>\n",
       "                        <td id=\"T_4953149c_6562_11e9_a9f2_b46d83852843row11_col0\" class=\"data row11 col0\" >0.7155</td>\n",
       "                        <td id=\"T_4953149c_6562_11e9_a9f2_b46d83852843row11_col1\" class=\"data row11 col1\" >0.189861</td>\n",
       "                        <td id=\"T_4953149c_6562_11e9_a9f2_b46d83852843row11_col2\" class=\"data row11 col2\" >1</td>\n",
       "            </tr>\n",
       "            <tr>\n",
       "                        <th id=\"T_4953149c_6562_11e9_a9f2_b46d83852843level0_row12\" class=\"row_heading level0 row12\" rowspan=3>t_ratio_ks_stat</th>\n",
       "                        <th id=\"T_4953149c_6562_11e9_a9f2_b46d83852843level1_row12\" class=\"row_heading level1 row12\" >nb</th>\n",
       "                        <td id=\"T_4953149c_6562_11e9_a9f2_b46d83852843row12_col0\" class=\"data row12 col0\" >0.461</td>\n",
       "                        <td id=\"T_4953149c_6562_11e9_a9f2_b46d83852843row12_col1\" class=\"data row12 col1\" >0.0481117</td>\n",
       "                        <td id=\"T_4953149c_6562_11e9_a9f2_b46d83852843row12_col2\" class=\"data row12 col2\" >0.5</td>\n",
       "            </tr>\n",
       "            <tr>\n",
       "                                <th id=\"T_4953149c_6562_11e9_a9f2_b46d83852843level1_row13\" class=\"row_heading level1 row13\" >zifa_half</th>\n",
       "                        <td id=\"T_4953149c_6562_11e9_a9f2_b46d83852843row13_col0\" class=\"data row13 col0\" >0.9635</td>\n",
       "                        <td id=\"T_4953149c_6562_11e9_a9f2_b46d83852843row13_col1\" class=\"data row13 col1\" >0.0959866</td>\n",
       "                        <td id=\"T_4953149c_6562_11e9_a9f2_b46d83852843row13_col2\" class=\"data row13 col2\" >1</td>\n",
       "            </tr>\n",
       "            <tr>\n",
       "                                <th id=\"T_4953149c_6562_11e9_a9f2_b46d83852843level1_row14\" class=\"row_heading level1 row14\" >zinb</th>\n",
       "                        <td id=\"T_4953149c_6562_11e9_a9f2_b46d83852843row14_col0\" class=\"data row14 col0\" >0.5065</td>\n",
       "                        <td id=\"T_4953149c_6562_11e9_a9f2_b46d83852843row14_col1\" class=\"data row14 col1\" >0.0290689</td>\n",
       "                        <td id=\"T_4953149c_6562_11e9_a9f2_b46d83852843row14_col2\" class=\"data row14 col2\" >0.999572</td>\n",
       "            </tr>\n",
       "    </tbody></table>"
      ],
      "text/plain": [
       "<pandas.io.formats.style.Styler at 0x7f4325fb2940>"
      ]
     },
     "execution_count": 13,
     "metadata": {},
     "output_type": "execute_result"
    }
   ],
   "source": [
    "def get_summary(gby):\n",
    "    res = {}\n",
    "    res['mean'] = gby.mean()\n",
    "    res['std'] = gby.std()\n",
    "    res['pvals'] = pvals[gby.name]\n",
    "    return pd.DataFrame(res).T\n",
    "\n",
    "# df_summary = df.groupby('model')['ll_ll', 'imputation_median_imputation_score', 't_dropout_ks_stat',\n",
    "#                                  't_ratio_ks_stat', 't_cv_ks_stat'].agg(['mean', 'std']).T\n",
    "df_summary = df.groupby('model')[metrics].apply(get_summary)\n",
    "df_summary\n",
    "\n",
    "\n",
    "def my_styler(val):\n",
    "    \"\"\"\n",
    "    Takes a scalar and returns a string with\n",
    "    the css property `'color: red'` for negative\n",
    "    strings, black otherwise.\n",
    "    \"\"\"\n",
    "    print(val)\n",
    "    style = 'background-color: yellow' if val.pvals < 0.05 else ''\n",
    "    return [style]\n",
    "\n",
    "df_summary = df_summary.stack().unstack(1).sort_index(level=1).swaplevel()\n",
    "df_summary.style.apply(my_styler, subset=['pvals'], axis=1)\n",
    "# df_summary.loc[pd.IndexSlice[pd.IndexSlice[:, 'pvals'], :]].style.background_gradient()\n",
    "# df_summary.style.apply(my_styler, subset=pd.IndexSlice[:, 'pvals'], axis=0)\n",
    "# df_summary = df_summary.style.apply(my_styler, subset=pd.IndexSlice[pd.IndexSlice[:, 'pvals'], :], axis=1).render()\n",
    "# df_summary.pivot(index=['model', ['mean', 'std', 'pvals']], columns=metrics)"
   ]
  },
  {
   "cell_type": "code",
   "execution_count": 14,
   "metadata": {},
   "outputs": [],
   "source": [
    "# df_summary.loc[pd.IndexSlice[pd.IndexSlice[:, 'pvals'], :]].style.background_gradient()"
   ]
  },
  {
   "cell_type": "code",
   "execution_count": 21,
   "metadata": {},
   "outputs": [],
   "source": [
    "text_file = open(os.path.join(data_folder, 'latex_table.txt'), \"w\")\n",
    "text_file.write(df_summary.to_latex())\n",
    "text_file.close()"
   ]
  },
  {
   "cell_type": "code",
   "execution_count": null,
   "metadata": {},
   "outputs": [],
   "source": []
  }
 ],
 "metadata": {
  "kernelspec": {
   "display_name": "Python [conda env:scvi] *",
   "language": "python",
   "name": "conda-env-scvi-py"
  },
  "language_info": {
   "codemirror_mode": {
    "name": "ipython",
    "version": 3
   },
   "file_extension": ".py",
   "mimetype": "text/x-python",
   "name": "python",
   "nbconvert_exporter": "python",
   "pygments_lexer": "ipython3",
   "version": "3.6.7"
  }
 },
 "nbformat": 4,
 "nbformat_minor": 2
}
