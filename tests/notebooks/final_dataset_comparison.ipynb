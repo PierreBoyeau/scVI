{
 "cells": [
  {
   "cell_type": "code",
   "execution_count": 1,
   "metadata": {},
   "outputs": [],
   "source": [
    "import glob\n",
    "import pandas as pd\n",
    "import numpy as np\n",
    "import os\n",
    "from IPython.display import HTML"
   ]
  },
  {
   "cell_type": "code",
   "execution_count": 2,
   "metadata": {},
   "outputs": [
    {
     "name": "stdout",
     "output_type": "stream",
     "text": [
      "brain_small  hemato\t       mixed_50_dataset  nb_dataset  retina\n",
      "cortex\t     mixed_25_dataset  mixed_75_dataset  pbmc\t     zinb_dataset\n"
     ]
    }
   ],
   "source": [
    "!ls /home/pierre/scVI/results/models_comparison/oscar_runs/"
   ]
  },
  {
   "cell_type": "code",
   "execution_count": 22,
   "metadata": {},
   "outputs": [
    {
     "name": "stdout",
     "output_type": "stream",
     "text": [
      "/home/pierre/scVI/results/models_comparison/oscar_runs/mixed_25_dataset/nb_mixed_25_dataset.csv\n",
      "/home/pierre/scVI/results/models_comparison/oscar_runs/mixed_25_dataset/zifa_full_mixed_25_dataset.csv\n",
      "/home/pierre/scVI/results/models_comparison/oscar_runs/mixed_25_dataset/zinb_mixed_25_dataset.csv\n"
     ]
    }
   ],
   "source": [
    "data_path = '/home/pierre/scVI/results/models_comparison/oscar_runs'\n",
    "dataset_name = 'mixed_25_dataset'\n",
    "data_files = sorted(glob.glob(os.path.join(data_path, '{}/*.csv'.format(dataset_name))))\n",
    "for data_file in data_files:\n",
    "    print(data_file)\n",
    "data_names = ['nb', 'zifa_full', 'zinb']"
   ]
  },
  {
   "cell_type": "code",
   "execution_count": null,
   "metadata": {},
   "outputs": [],
   "source": []
  },
  {
   "cell_type": "code",
   "execution_count": 28,
   "metadata": {},
   "outputs": [
    {
     "data": {
      "text/html": [
       "<div>\n",
       "<style scoped>\n",
       "    .dataframe tbody tr th:only-of-type {\n",
       "        vertical-align: middle;\n",
       "    }\n",
       "\n",
       "    .dataframe tbody tr th {\n",
       "        vertical-align: top;\n",
       "    }\n",
       "\n",
       "    .dataframe thead th {\n",
       "        text-align: right;\n",
       "    }\n",
       "</style>\n",
       "<table border=\"1\" class=\"dataframe\">\n",
       "  <thead>\n",
       "    <tr style=\"text-align: right;\">\n",
       "      <th></th>\n",
       "      <th>t_dropout_phi_gen_gene</th>\n",
       "      <th>t_dropout_phi_real_gene</th>\n",
       "    </tr>\n",
       "  </thead>\n",
       "  <tbody>\n",
       "    <tr>\n",
       "      <th>0</th>\n",
       "      <td>[0.30892857 0.29107143 0.29535714 ... 0.002857...</td>\n",
       "      <td>[[0.27428571 0.26214286 0.24678571 ... 0.26178...</td>\n",
       "    </tr>\n",
       "    <tr>\n",
       "      <th>1</th>\n",
       "      <td>[0.30892857 0.29107143 0.29535714 ... 0.002857...</td>\n",
       "      <td>[[0.67392857 0.69785714 0.67392857 ... 0.6925 ...</td>\n",
       "    </tr>\n",
       "    <tr>\n",
       "      <th>2</th>\n",
       "      <td>[0.30892857 0.29107143 0.29535714 ... 0.002857...</td>\n",
       "      <td>[[0.59214286 0.57571429 0.5825     ... 0.58321...</td>\n",
       "    </tr>\n",
       "    <tr>\n",
       "      <th>3</th>\n",
       "      <td>[0.30892857 0.29107143 0.29535714 ... 0.002857...</td>\n",
       "      <td>[[0.60642857 0.62928571 0.62285714 ... 0.60214...</td>\n",
       "    </tr>\n",
       "    <tr>\n",
       "      <th>4</th>\n",
       "      <td>[0.30892857 0.29107143 0.29535714 ... 0.002857...</td>\n",
       "      <td>[[0.27464286 0.29285714 0.29428571 ... 0.28964...</td>\n",
       "    </tr>\n",
       "  </tbody>\n",
       "</table>\n",
       "</div>"
      ],
      "text/plain": [
       "                              t_dropout_phi_gen_gene  \\\n",
       "0  [0.30892857 0.29107143 0.29535714 ... 0.002857...   \n",
       "1  [0.30892857 0.29107143 0.29535714 ... 0.002857...   \n",
       "2  [0.30892857 0.29107143 0.29535714 ... 0.002857...   \n",
       "3  [0.30892857 0.29107143 0.29535714 ... 0.002857...   \n",
       "4  [0.30892857 0.29107143 0.29535714 ... 0.002857...   \n",
       "\n",
       "                             t_dropout_phi_real_gene  \n",
       "0  [[0.27428571 0.26214286 0.24678571 ... 0.26178...  \n",
       "1  [[0.67392857 0.69785714 0.67392857 ... 0.6925 ...  \n",
       "2  [[0.59214286 0.57571429 0.5825     ... 0.58321...  \n",
       "3  [[0.60642857 0.62928571 0.62285714 ... 0.60214...  \n",
       "4  [[0.27464286 0.29285714 0.29428571 ... 0.28964...  "
      ]
     },
     "execution_count": 28,
     "metadata": {},
     "output_type": "execute_result"
    }
   ],
   "source": [
    "df[['t_dropout_phi_gen_gene', 't_dropout_phi_real_gene']].head()"
   ]
  },
  {
   "cell_type": "code",
   "execution_count": null,
   "metadata": {},
   "outputs": [],
   "source": [
    "t_dropout_phi_real_gene"
   ]
  },
  {
   "cell_type": "code",
   "execution_count": 23,
   "metadata": {},
   "outputs": [],
   "source": [
    "dfs = []\n",
    "for data_name, f in zip(data_names, data_files):\n",
    "    my_df = pd.read_csv(f, sep='\\t')\n",
    "    my_df.loc[:, 'model'] = data_name\n",
    "#     my_df.columns = [data_name + '_' col_name for col_name in my_df.columns]\n",
    "    dfs.append(my_df)\n",
    "df = pd.concat(dfs, axis=0)\n",
    "# df.info()"
   ]
  },
  {
   "cell_type": "code",
   "execution_count": 24,
   "metadata": {},
   "outputs": [],
   "source": [
    "metrics = ['ll_ll', 'imputation_median_imputation_score', 't_dropout_ks_stat', 't_ratio_ks_stat', 't_cv_ks_stat']\n",
    "h1_hypothesis = ['larger', 'larger', 'larger', 'larger', 'larger']\n",
    "h1_hypothesis_bis = ['smaller', 'smaller', 'smaller', 'smaller', 'smaller']\n",
    "\n",
    "df_nb = df.loc[df.model=='nb', metrics]\n",
    "df_zinb = df.loc[df.model=='zinb', metrics]\n",
    "\n",
    "\n",
    "from statsmodels.stats.weightstats import ttest_ind\n",
    "\n",
    "def get_pvals(gby, other_df):\n",
    "    my_df = gby[metrics]\n",
    "#     print(my_df)\n",
    "#     print(other_df)\n",
    "    assert my_df.shape[1] == len(metrics)\n",
    "    pvals = []\n",
    "    for idx, alternative in enumerate(h1_hypothesis):\n",
    "#         assert len(other_df.values[:, idx]) != len(h1_hypothesis), (len(other_df.values[:, idx]), len(h1_hypothesis))\n",
    "        _, pval, _ = ttest_ind(other_df.values[:, idx], my_df.values[:, idx], alternative=alternative)\n",
    "        pvals.append(pval)\n",
    "    return np.array(pvals)\n",
    "\n",
    "pvals_against_zinb = df.groupby('model').apply(get_pvals, other_df=df_zinb)\n",
    "pvals_against_zinb = (pvals_against_zinb\n",
    "         .apply(lambda x: pd.Series(x))\n",
    "         .T)\n",
    "pvals_against_zinb = pvals_against_zinb.rename(index={idx: met for (idx,met) in enumerate(metrics)})\n",
    "\n",
    "pvals_against_nb = df.groupby('model').apply(get_pvals, other_df=df_nb)\n",
    "pvals_against_nb = (pvals_against_nb\n",
    "         .apply(lambda x: pd.Series(x))\n",
    "         .T)\n",
    "pvals_against_nb = pvals_against_nb.rename(index={idx: met for (idx,met) in enumerate(metrics)})"
   ]
  },
  {
   "cell_type": "code",
   "execution_count": 25,
   "metadata": {},
   "outputs": [
    {
     "data": {
      "text/html": [
       "<style  type=\"text/css\" >\n",
       "    #T_aec1be76_6609_11e9_8dfa_b46d83852843row2_col2 {\n",
       "            background-color:  yellow;\n",
       "        }</style><table id=\"T_aec1be76_6609_11e9_8dfa_b46d83852843\" ><thead>    <tr>        <th class=\"blank\" ></th>        <th class=\"blank level0\" ></th>        <th class=\"col_heading level0 col0\" >mean</th>        <th class=\"col_heading level0 col1\" >std</th>        <th class=\"col_heading level0 col2\" >pvals_against_nb</th>        <th class=\"col_heading level0 col3\" >pvals_against_zi</th>    </tr>    <tr>        <th class=\"index_name level0\" ></th>        <th class=\"index_name level1\" >model</th>        <th class=\"blank\" ></th>        <th class=\"blank\" ></th>        <th class=\"blank\" ></th>        <th class=\"blank\" ></th>    </tr></thead><tbody>\n",
       "                <tr>\n",
       "                        <th id=\"T_aec1be76_6609_11e9_8dfa_b46d83852843level0_row0\" class=\"row_heading level0 row0\" rowspan=3>imputation_median_imputation_score</th>\n",
       "                        <th id=\"T_aec1be76_6609_11e9_8dfa_b46d83852843level1_row0\" class=\"row_heading level1 row0\" >nb</th>\n",
       "                        <td id=\"T_aec1be76_6609_11e9_8dfa_b46d83852843row0_col0\" class=\"data row0 col0\" >4.23639</td>\n",
       "                        <td id=\"T_aec1be76_6609_11e9_8dfa_b46d83852843row0_col1\" class=\"data row0 col1\" >0.0105924</td>\n",
       "                        <td id=\"T_aec1be76_6609_11e9_8dfa_b46d83852843row0_col2\" class=\"data row0 col2\" >0.5</td>\n",
       "                        <td id=\"T_aec1be76_6609_11e9_8dfa_b46d83852843row0_col3\" class=\"data row0 col3\" >1</td>\n",
       "            </tr>\n",
       "            <tr>\n",
       "                                <th id=\"T_aec1be76_6609_11e9_8dfa_b46d83852843level1_row1\" class=\"row_heading level1 row1\" >zifa_full</th>\n",
       "                        <td id=\"T_aec1be76_6609_11e9_8dfa_b46d83852843row1_col0\" class=\"data row1 col0\" >4.23779</td>\n",
       "                        <td id=\"T_aec1be76_6609_11e9_8dfa_b46d83852843row1_col1\" class=\"data row1 col1\" >0.0122541</td>\n",
       "                        <td id=\"T_aec1be76_6609_11e9_8dfa_b46d83852843row1_col2\" class=\"data row1 col2\" >0.606001</td>\n",
       "                        <td id=\"T_aec1be76_6609_11e9_8dfa_b46d83852843row1_col3\" class=\"data row1 col3\" >1</td>\n",
       "            </tr>\n",
       "            <tr>\n",
       "                                <th id=\"T_aec1be76_6609_11e9_8dfa_b46d83852843level1_row2\" class=\"row_heading level1 row2\" >zinb</th>\n",
       "                        <td id=\"T_aec1be76_6609_11e9_8dfa_b46d83852843row2_col0\" class=\"data row2 col0\" >4.11092</td>\n",
       "                        <td id=\"T_aec1be76_6609_11e9_8dfa_b46d83852843row2_col1\" class=\"data row2 col1\" >0.00761571</td>\n",
       "                        <td id=\"T_aec1be76_6609_11e9_8dfa_b46d83852843row2_col2\" class=\"data row2 col2\" >3.14882e-17</td>\n",
       "                        <td id=\"T_aec1be76_6609_11e9_8dfa_b46d83852843row2_col3\" class=\"data row2 col3\" >0.5</td>\n",
       "            </tr>\n",
       "            <tr>\n",
       "                        <th id=\"T_aec1be76_6609_11e9_8dfa_b46d83852843level0_row3\" class=\"row_heading level0 row3\" rowspan=3>ll_ll</th>\n",
       "                        <th id=\"T_aec1be76_6609_11e9_8dfa_b46d83852843level1_row3\" class=\"row_heading level1 row3\" >nb</th>\n",
       "                        <td id=\"T_aec1be76_6609_11e9_8dfa_b46d83852843row3_col0\" class=\"data row3 col0\" >4637.54</td>\n",
       "                        <td id=\"T_aec1be76_6609_11e9_8dfa_b46d83852843row3_col1\" class=\"data row3 col1\" >645.993</td>\n",
       "                        <td id=\"T_aec1be76_6609_11e9_8dfa_b46d83852843row3_col2\" class=\"data row3 col2\" >0.5</td>\n",
       "                        <td id=\"T_aec1be76_6609_11e9_8dfa_b46d83852843row3_col3\" class=\"data row3 col3\" >0.426968</td>\n",
       "            </tr>\n",
       "            <tr>\n",
       "                                <th id=\"T_aec1be76_6609_11e9_8dfa_b46d83852843level1_row4\" class=\"row_heading level1 row4\" >zifa_full</th>\n",
       "                        <td id=\"T_aec1be76_6609_11e9_8dfa_b46d83852843row4_col0\" class=\"data row4 col0\" >4705.25</td>\n",
       "                        <td id=\"T_aec1be76_6609_11e9_8dfa_b46d83852843row4_col1\" class=\"data row4 col1\" >890.988</td>\n",
       "                        <td id=\"T_aec1be76_6609_11e9_8dfa_b46d83852843row4_col2\" class=\"data row4 col2\" >0.576043</td>\n",
       "                        <td id=\"T_aec1be76_6609_11e9_8dfa_b46d83852843row4_col3\" class=\"data row4 col3\" >0.51683</td>\n",
       "            </tr>\n",
       "            <tr>\n",
       "                                <th id=\"T_aec1be76_6609_11e9_8dfa_b46d83852843level1_row5\" class=\"row_heading level1 row5\" >zinb</th>\n",
       "                        <td id=\"T_aec1be76_6609_11e9_8dfa_b46d83852843row5_col0\" class=\"data row5 col0\" >4690.54</td>\n",
       "                        <td id=\"T_aec1be76_6609_11e9_8dfa_b46d83852843row5_col1\" class=\"data row5 col1\" >622.94</td>\n",
       "                        <td id=\"T_aec1be76_6609_11e9_8dfa_b46d83852843row5_col2\" class=\"data row5 col2\" >0.573032</td>\n",
       "                        <td id=\"T_aec1be76_6609_11e9_8dfa_b46d83852843row5_col3\" class=\"data row5 col3\" >0.5</td>\n",
       "            </tr>\n",
       "            <tr>\n",
       "                        <th id=\"T_aec1be76_6609_11e9_8dfa_b46d83852843level0_row6\" class=\"row_heading level0 row6\" rowspan=3>t_cv_ks_stat</th>\n",
       "                        <th id=\"T_aec1be76_6609_11e9_8dfa_b46d83852843level1_row6\" class=\"row_heading level1 row6\" >nb</th>\n",
       "                        <td id=\"T_aec1be76_6609_11e9_8dfa_b46d83852843row6_col0\" class=\"data row6 col0\" >0.899917</td>\n",
       "                        <td id=\"T_aec1be76_6609_11e9_8dfa_b46d83852843row6_col1\" class=\"data row6 col1\" >0.129028</td>\n",
       "                        <td id=\"T_aec1be76_6609_11e9_8dfa_b46d83852843row6_col2\" class=\"data row6 col2\" >0.5</td>\n",
       "                        <td id=\"T_aec1be76_6609_11e9_8dfa_b46d83852843row6_col3\" class=\"data row6 col3\" >0.330934</td>\n",
       "            </tr>\n",
       "            <tr>\n",
       "                                <th id=\"T_aec1be76_6609_11e9_8dfa_b46d83852843level1_row7\" class=\"row_heading level1 row7\" >zifa_full</th>\n",
       "                        <td id=\"T_aec1be76_6609_11e9_8dfa_b46d83852843row7_col0\" class=\"data row7 col0\" >0.874917</td>\n",
       "                        <td id=\"T_aec1be76_6609_11e9_8dfa_b46d83852843row7_col1\" class=\"data row7 col1\" >0.131674</td>\n",
       "                        <td id=\"T_aec1be76_6609_11e9_8dfa_b46d83852843row7_col2\" class=\"data row7 col2\" >0.336566</td>\n",
       "                        <td id=\"T_aec1be76_6609_11e9_8dfa_b46d83852843row7_col3\" class=\"data row7 col3\" >0.194546</td>\n",
       "            </tr>\n",
       "            <tr>\n",
       "                                <th id=\"T_aec1be76_6609_11e9_8dfa_b46d83852843level1_row8\" class=\"row_heading level1 row8\" >zinb</th>\n",
       "                        <td id=\"T_aec1be76_6609_11e9_8dfa_b46d83852843row8_col0\" class=\"data row8 col0\" >0.92475</td>\n",
       "                        <td id=\"T_aec1be76_6609_11e9_8dfa_b46d83852843row8_col1\" class=\"data row8 col1\" >0.12059</td>\n",
       "                        <td id=\"T_aec1be76_6609_11e9_8dfa_b46d83852843row8_col2\" class=\"data row8 col2\" >0.669066</td>\n",
       "                        <td id=\"T_aec1be76_6609_11e9_8dfa_b46d83852843row8_col3\" class=\"data row8 col3\" >0.5</td>\n",
       "            </tr>\n",
       "            <tr>\n",
       "                        <th id=\"T_aec1be76_6609_11e9_8dfa_b46d83852843level0_row9\" class=\"row_heading level0 row9\" rowspan=3>t_dropout_ks_stat</th>\n",
       "                        <th id=\"T_aec1be76_6609_11e9_8dfa_b46d83852843level1_row9\" class=\"row_heading level1 row9\" >nb</th>\n",
       "                        <td id=\"T_aec1be76_6609_11e9_8dfa_b46d83852843row9_col0\" class=\"data row9 col0\" >0.876083</td>\n",
       "                        <td id=\"T_aec1be76_6609_11e9_8dfa_b46d83852843row9_col1\" class=\"data row9 col1\" >0.108905</td>\n",
       "                        <td id=\"T_aec1be76_6609_11e9_8dfa_b46d83852843row9_col2\" class=\"data row9 col2\" >0.5</td>\n",
       "                        <td id=\"T_aec1be76_6609_11e9_8dfa_b46d83852843row9_col3\" class=\"data row9 col3\" >0.630125</td>\n",
       "            </tr>\n",
       "            <tr>\n",
       "                                <th id=\"T_aec1be76_6609_11e9_8dfa_b46d83852843level1_row10\" class=\"row_heading level1 row10\" >zifa_full</th>\n",
       "                        <td id=\"T_aec1be76_6609_11e9_8dfa_b46d83852843row10_col0\" class=\"data row10 col0\" >0.872833</td>\n",
       "                        <td id=\"T_aec1be76_6609_11e9_8dfa_b46d83852843row10_col1\" class=\"data row10 col1\" >0.129512</td>\n",
       "                        <td id=\"T_aec1be76_6609_11e9_8dfa_b46d83852843row10_col2\" class=\"data row10 col2\" >0.476119</td>\n",
       "                        <td id=\"T_aec1be76_6609_11e9_8dfa_b46d83852843row10_col3\" class=\"data row10 col3\" >0.591167</td>\n",
       "            </tr>\n",
       "            <tr>\n",
       "                                <th id=\"T_aec1be76_6609_11e9_8dfa_b46d83852843level1_row11\" class=\"row_heading level1 row11\" >zinb</th>\n",
       "                        <td id=\"T_aec1be76_6609_11e9_8dfa_b46d83852843row11_col0\" class=\"data row11 col0\" >0.861417</td>\n",
       "                        <td id=\"T_aec1be76_6609_11e9_8dfa_b46d83852843row11_col1\" class=\"data row11 col1\" >0.0839101</td>\n",
       "                        <td id=\"T_aec1be76_6609_11e9_8dfa_b46d83852843row11_col2\" class=\"data row11 col2\" >0.369875</td>\n",
       "                        <td id=\"T_aec1be76_6609_11e9_8dfa_b46d83852843row11_col3\" class=\"data row11 col3\" >0.5</td>\n",
       "            </tr>\n",
       "            <tr>\n",
       "                        <th id=\"T_aec1be76_6609_11e9_8dfa_b46d83852843level0_row12\" class=\"row_heading level0 row12\" rowspan=3>t_ratio_ks_stat</th>\n",
       "                        <th id=\"T_aec1be76_6609_11e9_8dfa_b46d83852843level1_row12\" class=\"row_heading level1 row12\" >nb</th>\n",
       "                        <td id=\"T_aec1be76_6609_11e9_8dfa_b46d83852843row12_col0\" class=\"data row12 col0\" >0.790083</td>\n",
       "                        <td id=\"T_aec1be76_6609_11e9_8dfa_b46d83852843row12_col1\" class=\"data row12 col1\" >0.0759573</td>\n",
       "                        <td id=\"T_aec1be76_6609_11e9_8dfa_b46d83852843row12_col2\" class=\"data row12 col2\" >0.5</td>\n",
       "                        <td id=\"T_aec1be76_6609_11e9_8dfa_b46d83852843row12_col3\" class=\"data row12 col3\" >0.436313</td>\n",
       "            </tr>\n",
       "            <tr>\n",
       "                                <th id=\"T_aec1be76_6609_11e9_8dfa_b46d83852843level1_row13\" class=\"row_heading level1 row13\" >zifa_full</th>\n",
       "                        <td id=\"T_aec1be76_6609_11e9_8dfa_b46d83852843row13_col0\" class=\"data row13 col0\" >0.860417</td>\n",
       "                        <td id=\"T_aec1be76_6609_11e9_8dfa_b46d83852843row13_col1\" class=\"data row13 col1\" >0.117286</td>\n",
       "                        <td id=\"T_aec1be76_6609_11e9_8dfa_b46d83852843row13_col2\" class=\"data row13 col2\" >0.935569</td>\n",
       "                        <td id=\"T_aec1be76_6609_11e9_8dfa_b46d83852843row13_col3\" class=\"data row13 col3\" >0.918708</td>\n",
       "            </tr>\n",
       "            <tr>\n",
       "                                <th id=\"T_aec1be76_6609_11e9_8dfa_b46d83852843level1_row14\" class=\"row_heading level1 row14\" >zinb</th>\n",
       "                        <td id=\"T_aec1be76_6609_11e9_8dfa_b46d83852843row14_col0\" class=\"data row14 col0\" >0.795667</td>\n",
       "                        <td id=\"T_aec1be76_6609_11e9_8dfa_b46d83852843row14_col1\" class=\"data row14 col1\" >0.0775749</td>\n",
       "                        <td id=\"T_aec1be76_6609_11e9_8dfa_b46d83852843row14_col2\" class=\"data row14 col2\" >0.563687</td>\n",
       "                        <td id=\"T_aec1be76_6609_11e9_8dfa_b46d83852843row14_col3\" class=\"data row14 col3\" >0.5</td>\n",
       "            </tr>\n",
       "    </tbody></table>"
      ],
      "text/plain": [
       "<pandas.io.formats.style.Styler at 0x7fc5e387cef0>"
      ]
     },
     "execution_count": 25,
     "metadata": {},
     "output_type": "execute_result"
    }
   ],
   "source": [
    "def get_summary(gby):\n",
    "    res = {}\n",
    "    res['mean'] = gby.mean()\n",
    "    res['std'] = gby.std()\n",
    "    res['pvals_against_nb'] = pvals_against_nb[gby.name]\n",
    "    res['pvals_against_zi'] = pvals_against_zinb[gby.name]\n",
    "    return pd.DataFrame(res).T\n",
    "\n",
    "# df_summary = df.groupby('model')['ll_ll', 'imputation_median_imputation_score', 't_dropout_ks_stat',\n",
    "#                                  't_ratio_ks_stat', 't_cv_ks_stat'].agg(['mean', 'std']).T\n",
    "df_summary = df.groupby('model')[metrics].apply(get_summary)\n",
    "df_summary\n",
    "\n",
    "\n",
    "def my_styler(val):\n",
    "    \"\"\"\n",
    "    Takes a scalar and returns a string with\n",
    "    the css property `'color: red'` for negative\n",
    "    strings, black otherwise.\n",
    "    \"\"\"\n",
    "#     print(val)\n",
    "    style = ['background-color: yellow' if v < 0.05 else '' for v in val]\n",
    "    return style\n",
    "\n",
    "df_summary = df_summary.stack().unstack(1).sort_index(level=1).swaplevel()\n",
    "style = df_summary.style.apply(my_styler, subset=['pvals_against_nb', 'pvals_against_zi'], axis=1)\n",
    "style\n",
    "# df_summary.loc[pd.IndexSlice[pd.IndexSlice[:, 'pvals'], :]].style.background_gradient()\n",
    "# df_summary.style.apply(my_styler, subset=pd.IndexSlice[:, 'pvals'], axis=0)\n",
    "# df_summary = df_summary.style.apply(my_styler, subset=pd.IndexSlice[pd.IndexSlice[:, 'pvals'], :], axis=1).render()\n",
    "# df_summary.pivot(index=['model', ['mean', 'std', 'pvals']], columns=metrics)\n",
    "# style"
   ]
  },
  {
   "cell_type": "code",
   "execution_count": 26,
   "metadata": {},
   "outputs": [
    {
     "ename": "NameError",
     "evalue": "name 'data_folder' is not defined",
     "output_type": "error",
     "traceback": [
      "\u001b[0;31m---------------------------------------------------------------------------\u001b[0m",
      "\u001b[0;31mNameError\u001b[0m                                 Traceback (most recent call last)",
      "\u001b[0;32m<ipython-input-26-135fac43e82b>\u001b[0m in \u001b[0;36m<module>\u001b[0;34m\u001b[0m\n\u001b[0;32m----> 1\u001b[0;31m \u001b[0mdata_folder\u001b[0m\u001b[0;34m\u001b[0m\u001b[0;34m\u001b[0m\u001b[0m\n\u001b[0m",
      "\u001b[0;31mNameError\u001b[0m: name 'data_folder' is not defined"
     ]
    }
   ],
   "source": [
    "data_folder"
   ]
  },
  {
   "cell_type": "code",
   "execution_count": null,
   "metadata": {},
   "outputs": [],
   "source": [
    "# save as png\n",
    "import imgkit\n",
    "imgkit.from_string(style, os.path.join(data_path, '{}.png'.format(dataset_name)))"
   ]
  },
  {
   "cell_type": "code",
   "execution_count": null,
   "metadata": {},
   "outputs": [],
   "source": [
    "# save as latex table"
   ]
  },
  {
   "cell_type": "code",
   "execution_count": null,
   "metadata": {},
   "outputs": [],
   "source": [
    "text_file = open(os.path.join(data_path, 'latex_table.txt'), \"w\")\n",
    "text_file.write(df_summary.to_latex())\n",
    "text_file.close()"
   ]
  },
  {
   "cell_type": "code",
   "execution_count": null,
   "metadata": {},
   "outputs": [],
   "source": []
  }
 ],
 "metadata": {
  "kernelspec": {
   "display_name": "Python [conda env:scvi] *",
   "language": "python",
   "name": "conda-env-scvi-py"
  },
  "language_info": {
   "codemirror_mode": {
    "name": "ipython",
    "version": 3
   },
   "file_extension": ".py",
   "mimetype": "text/x-python",
   "name": "python",
   "nbconvert_exporter": "python",
   "pygments_lexer": "ipython3",
   "version": "3.6.7"
  }
 },
 "nbformat": 4,
 "nbformat_minor": 2
}
