{
 "cells": [
  {
   "cell_type": "code",
   "execution_count": 1,
   "metadata": {
    "pycharm": {
     "is_executing": false
    }
   },
   "outputs": [],
   "source": [
    "import glob\n",
    "import pandas as pd\n",
    "import numpy as np\n",
    "import os\n",
    "from IPython.display import HTML"
   ]
  },
  {
   "cell_type": "code",
   "execution_count": 2,
   "metadata": {
    "pycharm": {
     "is_executing": false
    }
   },
   "outputs": [
    {
     "name": "stdout",
     "output_type": "stream",
     "text": [
      "brain_small\t\t\t  cortex\t    nb_dataset\n",
      "corr_nb_dataset\t\t\t  hemato\t    pbmc\n",
      "corr_zinb_dataset\t\t  mixed_25_dataset  retina\n",
      "corr_zinb_dataset_strong\t  mixed_50_dataset  zinb_dataset\n",
      "corr_zinb_dataset_strong_no_tune  mixed_75_dataset\n"
     ]
    }
   ],
   "source": [
    "!ls /home/pierre/scVI/results/models_comparison/oscar_runs/"
   ]
  },
  {
   "cell_type": "code",
   "execution_count": 3,
   "metadata": {
    "pycharm": {
     "is_executing": false
    }
   },
   "outputs": [
    {
     "name": "stdout",
     "output_type": "stream",
     "text": [
      "/home/pierre/scVI/results/models_comparison/oscar_runs/hemato/nb_hemato.csv\n",
      "/home/pierre/scVI/results/models_comparison/oscar_runs/hemato/zifa_full_hemato.csv\n",
      "/home/pierre/scVI/results/models_comparison/oscar_runs/hemato/zinb_hemato.csv\n"
     ]
    }
   ],
   "source": [
    "data_path = '/home/pierre/scVI/results/models_comparison/oscar_runs'\n",
    "dataset_name = 'hemato'\n",
    "data_files = sorted(glob.glob(os.path.join(data_path, '{}/*.csv'.format(dataset_name))))\n",
    "for data_file in data_files:\n",
    "    print(data_file)\n",
    "data_names = ['nb', 'zifa_full', 'zinb']"
   ]
  },
  {
   "cell_type": "code",
   "execution_count": 4,
   "metadata": {
    "pycharm": {
     "is_executing": false
    }
   },
   "outputs": [],
   "source": [
    "dfs = []\n",
    "for data_name, f in zip(data_names, data_files):\n",
    "    my_df = pd.read_csv(f, sep='\\t')\n",
    "    my_df.loc[:, 'model'] = data_name\n",
    "    dfs.append(my_df)\n",
    "df = pd.concat(dfs, axis=0)"
   ]
  },
  {
   "cell_type": "code",
   "execution_count": 5,
   "metadata": {
    "pycharm": {
     "is_executing": false
    }
   },
   "outputs": [],
   "source": [
    "metrics = ['ll_ll', 'imputation_median_imputation_score', 't_dropout_ks_stat', 't_ratio_ks_stat', 't_cv_ks_stat']\n",
    "h1_hypothesis = ['larger', 'larger', 'larger', 'larger', 'larger']\n",
    "h1_hypothesis_bis = ['smaller', 'smaller', 'smaller', 'smaller', 'smaller']\n",
    "\n",
    "df_nb = df.loc[df.model=='nb', metrics]\n",
    "df_zinb = df.loc[df.model=='zinb', metrics]\n",
    "\n",
    "\n",
    "from statsmodels.stats.weightstats import ttest_ind\n",
    "\n",
    "def get_pvals(gby, other_df):\n",
    "    my_df = gby[metrics]\n",
    "    assert my_df.shape[1] == len(metrics)\n",
    "    pvals = []\n",
    "    for idx, alternative in enumerate(h1_hypothesis):\n",
    "        assert len(other_df.values[:, idx]) != len(h1_hypothesis), (len(other_df.values[:, idx]), len(h1_hypothesis))\n",
    "        _, pval, _ = ttest_ind(other_df.values[:, idx], my_df.values[:, idx], alternative=alternative)\n",
    "        pvals.append(pval)\n",
    "    return np.array(pvals)\n",
    "\n",
    "pvals_against_zinb = df.groupby('model').apply(get_pvals, other_df=df_zinb)\n",
    "pvals_against_zinb = (pvals_against_zinb\n",
    "         .apply(lambda x: pd.Series(x))\n",
    "         .T)\n",
    "pvals_against_zinb = pvals_against_zinb.rename(index={idx: met for (idx,met) in enumerate(metrics)})\n",
    "\n",
    "pvals_against_nb = df.groupby('model').apply(get_pvals, other_df=df_nb)\n",
    "pvals_against_nb = (pvals_against_nb\n",
    "         .apply(lambda x: pd.Series(x))\n",
    "         .T)\n",
    "pvals_against_nb = pvals_against_nb.rename(index={idx: met for (idx,met) in enumerate(metrics)})"
   ]
  },
  {
   "cell_type": "code",
   "execution_count": 6,
   "metadata": {
    "pycharm": {
     "is_executing": false
    }
   },
   "outputs": [
    {
     "name": "stdout",
     "output_type": "stream",
     "text": [
      "0.7520176231861114 0.7392812728881836\n"
     ]
    },
    {
     "data": {
      "text/plain": [
       "(1.2821455294853252, 0.8919702261801644, 18.0)"
      ]
     },
     "execution_count": 6,
     "metadata": {},
     "output_type": "execute_result"
    }
   ],
   "source": [
    "a = df.loc[df.model=='zifa_full', 'imputation_median_imputation_score']\n",
    "b = df.loc[df.model=='zinb', 'imputation_median_imputation_score']\n",
    "print(a.mean(), b.mean())\n",
    "ttest_ind(a, b, alternative='smaller')"
   ]
  },
  {
   "cell_type": "code",
   "execution_count": 7,
   "metadata": {
    "pycharm": {}
   },
   "outputs": [
    {
     "data": {
      "text/html": [
       "<div>\n",
       "<style scoped>\n",
       "    .dataframe tbody tr th:only-of-type {\n",
       "        vertical-align: middle;\n",
       "    }\n",
       "\n",
       "    .dataframe tbody tr th {\n",
       "        vertical-align: top;\n",
       "    }\n",
       "\n",
       "    .dataframe thead th {\n",
       "        text-align: right;\n",
       "    }\n",
       "</style>\n",
       "<table border=\"1\" class=\"dataframe\">\n",
       "  <thead>\n",
       "    <tr style=\"text-align: right;\">\n",
       "      <th>model</th>\n",
       "      <th>nb</th>\n",
       "      <th>zifa_full</th>\n",
       "      <th>zinb</th>\n",
       "    </tr>\n",
       "  </thead>\n",
       "  <tbody>\n",
       "    <tr>\n",
       "      <th>ll_ll</th>\n",
       "      <td>5.763735e-18</td>\n",
       "      <td>1.008908e-18</td>\n",
       "      <td>0.5</td>\n",
       "    </tr>\n",
       "    <tr>\n",
       "      <th>imputation_median_imputation_score</th>\n",
       "      <td>9.552212e-01</td>\n",
       "      <td>8.919702e-01</td>\n",
       "      <td>0.5</td>\n",
       "    </tr>\n",
       "    <tr>\n",
       "      <th>t_dropout_ks_stat</th>\n",
       "      <td>1.481071e-01</td>\n",
       "      <td>2.466888e-02</td>\n",
       "      <td>0.5</td>\n",
       "    </tr>\n",
       "    <tr>\n",
       "      <th>t_ratio_ks_stat</th>\n",
       "      <td>4.384888e-01</td>\n",
       "      <td>9.887299e-02</td>\n",
       "      <td>0.5</td>\n",
       "    </tr>\n",
       "    <tr>\n",
       "      <th>t_cv_ks_stat</th>\n",
       "      <td>9.633200e-06</td>\n",
       "      <td>7.413363e-06</td>\n",
       "      <td>0.5</td>\n",
       "    </tr>\n",
       "  </tbody>\n",
       "</table>\n",
       "</div>"
      ],
      "text/plain": [
       "model                                         nb     zifa_full  zinb\n",
       "ll_ll                               5.763735e-18  1.008908e-18   0.5\n",
       "imputation_median_imputation_score  9.552212e-01  8.919702e-01   0.5\n",
       "t_dropout_ks_stat                   1.481071e-01  2.466888e-02   0.5\n",
       "t_ratio_ks_stat                     4.384888e-01  9.887299e-02   0.5\n",
       "t_cv_ks_stat                        9.633200e-06  7.413363e-06   0.5"
      ]
     },
     "execution_count": 7,
     "metadata": {},
     "output_type": "execute_result"
    }
   ],
   "source": [
    "pvals_against_zinb"
   ]
  },
  {
   "cell_type": "code",
   "execution_count": 10,
   "metadata": {
    "pycharm": {}
   },
   "outputs": [
    {
     "data": {
      "text/html": [
       "<style  type=\"text/css\" >\n",
       "    #T_fc8e8136_67bf_11e9_98ff_b46d83852843row2_col2 {\n",
       "            background-color:  yellow;\n",
       "        }    #T_fc8e8136_67bf_11e9_98ff_b46d83852843row3_col3 {\n",
       "            background-color:  yellow;\n",
       "        }    #T_fc8e8136_67bf_11e9_98ff_b46d83852843row4_col3 {\n",
       "            background-color:  yellow;\n",
       "        }    #T_fc8e8136_67bf_11e9_98ff_b46d83852843row6_col3 {\n",
       "            background-color:  yellow;\n",
       "        }    #T_fc8e8136_67bf_11e9_98ff_b46d83852843row7_col3 {\n",
       "            background-color:  yellow;\n",
       "        }    #T_fc8e8136_67bf_11e9_98ff_b46d83852843row10_col3 {\n",
       "            background-color:  yellow;\n",
       "        }</style><table id=\"T_fc8e8136_67bf_11e9_98ff_b46d83852843\" ><thead>    <tr>        <th class=\"blank\" ></th>        <th class=\"blank level0\" ></th>        <th class=\"col_heading level0 col0\" >mean</th>        <th class=\"col_heading level0 col1\" >std</th>        <th class=\"col_heading level0 col2\" >pvals_against_nb</th>        <th class=\"col_heading level0 col3\" >pvals_against_zi</th>    </tr>    <tr>        <th class=\"index_name level0\" ></th>        <th class=\"index_name level1\" >model</th>        <th class=\"blank\" ></th>        <th class=\"blank\" ></th>        <th class=\"blank\" ></th>        <th class=\"blank\" ></th>    </tr></thead><tbody>\n",
       "                <tr>\n",
       "                        <th id=\"T_fc8e8136_67bf_11e9_98ff_b46d83852843level0_row0\" class=\"row_heading level0 row0\" rowspan=3>imputation_median_imputation_score</th>\n",
       "                        <th id=\"T_fc8e8136_67bf_11e9_98ff_b46d83852843level1_row0\" class=\"row_heading level1 row0\" >nb</th>\n",
       "                        <td id=\"T_fc8e8136_67bf_11e9_98ff_b46d83852843row0_col0\" class=\"data row0 col0\" >0.756274</td>\n",
       "                        <td id=\"T_fc8e8136_67bf_11e9_98ff_b46d83852843row0_col1\" class=\"data row0 col1\" >0.0206598</td>\n",
       "                        <td id=\"T_fc8e8136_67bf_11e9_98ff_b46d83852843row0_col2\" class=\"data row0 col2\" >0.5</td>\n",
       "                        <td id=\"T_fc8e8136_67bf_11e9_98ff_b46d83852843row0_col3\" class=\"data row0 col3\" >0.955221</td>\n",
       "            </tr>\n",
       "            <tr>\n",
       "                                <th id=\"T_fc8e8136_67bf_11e9_98ff_b46d83852843level1_row1\" class=\"row_heading level1 row1\" >zifa_full</th>\n",
       "                        <td id=\"T_fc8e8136_67bf_11e9_98ff_b46d83852843row1_col0\" class=\"data row1 col0\" >0.752018</td>\n",
       "                        <td id=\"T_fc8e8136_67bf_11e9_98ff_b46d83852843row1_col1\" class=\"data row1 col1\" >0.0227349</td>\n",
       "                        <td id=\"T_fc8e8136_67bf_11e9_98ff_b46d83852843row1_col2\" class=\"data row1 col2\" >0.333255</td>\n",
       "                        <td id=\"T_fc8e8136_67bf_11e9_98ff_b46d83852843row1_col3\" class=\"data row1 col3\" >0.89197</td>\n",
       "            </tr>\n",
       "            <tr>\n",
       "                                <th id=\"T_fc8e8136_67bf_11e9_98ff_b46d83852843level1_row2\" class=\"row_heading level1 row2\" >zinb</th>\n",
       "                        <td id=\"T_fc8e8136_67bf_11e9_98ff_b46d83852843row2_col0\" class=\"data row2 col0\" >0.739281</td>\n",
       "                        <td id=\"T_fc8e8136_67bf_11e9_98ff_b46d83852843row2_col1\" class=\"data row2 col1\" >0.021677</td>\n",
       "                        <td id=\"T_fc8e8136_67bf_11e9_98ff_b46d83852843row2_col2\" class=\"data row2 col2\" >0.0447788</td>\n",
       "                        <td id=\"T_fc8e8136_67bf_11e9_98ff_b46d83852843row2_col3\" class=\"data row2 col3\" >0.5</td>\n",
       "            </tr>\n",
       "            <tr>\n",
       "                        <th id=\"T_fc8e8136_67bf_11e9_98ff_b46d83852843level0_row3\" class=\"row_heading level0 row3\" rowspan=3>ll_ll</th>\n",
       "                        <th id=\"T_fc8e8136_67bf_11e9_98ff_b46d83852843level1_row3\" class=\"row_heading level1 row3\" >nb</th>\n",
       "                        <td id=\"T_fc8e8136_67bf_11e9_98ff_b46d83852843row3_col0\" class=\"data row3 col0\" >905.122</td>\n",
       "                        <td id=\"T_fc8e8136_67bf_11e9_98ff_b46d83852843row3_col1\" class=\"data row3 col1\" >3.99411</td>\n",
       "                        <td id=\"T_fc8e8136_67bf_11e9_98ff_b46d83852843row3_col2\" class=\"data row3 col2\" >0.5</td>\n",
       "                        <td id=\"T_fc8e8136_67bf_11e9_98ff_b46d83852843row3_col3\" class=\"data row3 col3\" >5.76373e-18</td>\n",
       "            </tr>\n",
       "            <tr>\n",
       "                                <th id=\"T_fc8e8136_67bf_11e9_98ff_b46d83852843level1_row4\" class=\"row_heading level1 row4\" >zifa_full</th>\n",
       "                        <td id=\"T_fc8e8136_67bf_11e9_98ff_b46d83852843row4_col0\" class=\"data row4 col0\" >904.77</td>\n",
       "                        <td id=\"T_fc8e8136_67bf_11e9_98ff_b46d83852843row4_col1\" class=\"data row4 col1\" >2.00317</td>\n",
       "                        <td id=\"T_fc8e8136_67bf_11e9_98ff_b46d83852843row4_col2\" class=\"data row4 col2\" >0.40328</td>\n",
       "                        <td id=\"T_fc8e8136_67bf_11e9_98ff_b46d83852843row4_col3\" class=\"data row4 col3\" >1.00891e-18</td>\n",
       "            </tr>\n",
       "            <tr>\n",
       "                                <th id=\"T_fc8e8136_67bf_11e9_98ff_b46d83852843level1_row5\" class=\"row_heading level1 row5\" >zinb</th>\n",
       "                        <td id=\"T_fc8e8136_67bf_11e9_98ff_b46d83852843row5_col0\" class=\"data row5 col0\" >993.396</td>\n",
       "                        <td id=\"T_fc8e8136_67bf_11e9_98ff_b46d83852843row5_col1\" class=\"data row5 col1\" >7.32048</td>\n",
       "                        <td id=\"T_fc8e8136_67bf_11e9_98ff_b46d83852843row5_col2\" class=\"data row5 col2\" >1</td>\n",
       "                        <td id=\"T_fc8e8136_67bf_11e9_98ff_b46d83852843row5_col3\" class=\"data row5 col3\" >0.5</td>\n",
       "            </tr>\n",
       "            <tr>\n",
       "                        <th id=\"T_fc8e8136_67bf_11e9_98ff_b46d83852843level0_row6\" class=\"row_heading level0 row6\" rowspan=3>t_cv_ks_stat</th>\n",
       "                        <th id=\"T_fc8e8136_67bf_11e9_98ff_b46d83852843level1_row6\" class=\"row_heading level1 row6\" >nb</th>\n",
       "                        <td id=\"T_fc8e8136_67bf_11e9_98ff_b46d83852843row6_col0\" class=\"data row6 col0\" >0.20475</td>\n",
       "                        <td id=\"T_fc8e8136_67bf_11e9_98ff_b46d83852843row6_col1\" class=\"data row6 col1\" >0.0993521</td>\n",
       "                        <td id=\"T_fc8e8136_67bf_11e9_98ff_b46d83852843row6_col2\" class=\"data row6 col2\" >0.5</td>\n",
       "                        <td id=\"T_fc8e8136_67bf_11e9_98ff_b46d83852843row6_col3\" class=\"data row6 col3\" >9.6332e-06</td>\n",
       "            </tr>\n",
       "            <tr>\n",
       "                                <th id=\"T_fc8e8136_67bf_11e9_98ff_b46d83852843level1_row7\" class=\"row_heading level1 row7\" >zifa_full</th>\n",
       "                        <td id=\"T_fc8e8136_67bf_11e9_98ff_b46d83852843row7_col0\" class=\"data row7 col0\" >0.262333</td>\n",
       "                        <td id=\"T_fc8e8136_67bf_11e9_98ff_b46d83852843row7_col1\" class=\"data row7 col1\" >0.0633221</td>\n",
       "                        <td id=\"T_fc8e8136_67bf_11e9_98ff_b46d83852843row7_col2\" class=\"data row7 col2\" >0.930198</td>\n",
       "                        <td id=\"T_fc8e8136_67bf_11e9_98ff_b46d83852843row7_col3\" class=\"data row7 col3\" >7.41336e-06</td>\n",
       "            </tr>\n",
       "            <tr>\n",
       "                                <th id=\"T_fc8e8136_67bf_11e9_98ff_b46d83852843level1_row8\" class=\"row_heading level1 row8\" >zinb</th>\n",
       "                        <td id=\"T_fc8e8136_67bf_11e9_98ff_b46d83852843row8_col0\" class=\"data row8 col0\" >0.39475</td>\n",
       "                        <td id=\"T_fc8e8136_67bf_11e9_98ff_b46d83852843row8_col1\" class=\"data row8 col1\" >0.0329376</td>\n",
       "                        <td id=\"T_fc8e8136_67bf_11e9_98ff_b46d83852843row8_col2\" class=\"data row8 col2\" >0.99999</td>\n",
       "                        <td id=\"T_fc8e8136_67bf_11e9_98ff_b46d83852843row8_col3\" class=\"data row8 col3\" >0.5</td>\n",
       "            </tr>\n",
       "            <tr>\n",
       "                        <th id=\"T_fc8e8136_67bf_11e9_98ff_b46d83852843level0_row9\" class=\"row_heading level0 row9\" rowspan=3>t_dropout_ks_stat</th>\n",
       "                        <th id=\"T_fc8e8136_67bf_11e9_98ff_b46d83852843level1_row9\" class=\"row_heading level1 row9\" >nb</th>\n",
       "                        <td id=\"T_fc8e8136_67bf_11e9_98ff_b46d83852843row9_col0\" class=\"data row9 col0\" >0.17625</td>\n",
       "                        <td id=\"T_fc8e8136_67bf_11e9_98ff_b46d83852843row9_col1\" class=\"data row9 col1\" >0.12616</td>\n",
       "                        <td id=\"T_fc8e8136_67bf_11e9_98ff_b46d83852843row9_col2\" class=\"data row9 col2\" >0.5</td>\n",
       "                        <td id=\"T_fc8e8136_67bf_11e9_98ff_b46d83852843row9_col3\" class=\"data row9 col3\" >0.148107</td>\n",
       "            </tr>\n",
       "            <tr>\n",
       "                                <th id=\"T_fc8e8136_67bf_11e9_98ff_b46d83852843level1_row10\" class=\"row_heading level1 row10\" >zifa_full</th>\n",
       "                        <td id=\"T_fc8e8136_67bf_11e9_98ff_b46d83852843row10_col0\" class=\"data row10 col0\" >0.12975</td>\n",
       "                        <td id=\"T_fc8e8136_67bf_11e9_98ff_b46d83852843row10_col1\" class=\"data row10 col1\" >0.0850953</td>\n",
       "                        <td id=\"T_fc8e8136_67bf_11e9_98ff_b46d83852843row10_col2\" class=\"data row10 col2\" >0.173352</td>\n",
       "                        <td id=\"T_fc8e8136_67bf_11e9_98ff_b46d83852843row10_col3\" class=\"data row10 col3\" >0.0246689</td>\n",
       "            </tr>\n",
       "            <tr>\n",
       "                                <th id=\"T_fc8e8136_67bf_11e9_98ff_b46d83852843level1_row11\" class=\"row_heading level1 row11\" >zinb</th>\n",
       "                        <td id=\"T_fc8e8136_67bf_11e9_98ff_b46d83852843row11_col0\" class=\"data row11 col0\" >0.2415</td>\n",
       "                        <td id=\"T_fc8e8136_67bf_11e9_98ff_b46d83852843row11_col1\" class=\"data row11 col1\" >0.144462</td>\n",
       "                        <td id=\"T_fc8e8136_67bf_11e9_98ff_b46d83852843row11_col2\" class=\"data row11 col2\" >0.851893</td>\n",
       "                        <td id=\"T_fc8e8136_67bf_11e9_98ff_b46d83852843row11_col3\" class=\"data row11 col3\" >0.5</td>\n",
       "            </tr>\n",
       "            <tr>\n",
       "                        <th id=\"T_fc8e8136_67bf_11e9_98ff_b46d83852843level0_row12\" class=\"row_heading level0 row12\" rowspan=3>t_ratio_ks_stat</th>\n",
       "                        <th id=\"T_fc8e8136_67bf_11e9_98ff_b46d83852843level1_row12\" class=\"row_heading level1 row12\" >nb</th>\n",
       "                        <td id=\"T_fc8e8136_67bf_11e9_98ff_b46d83852843row12_col0\" class=\"data row12 col0\" >0.282083</td>\n",
       "                        <td id=\"T_fc8e8136_67bf_11e9_98ff_b46d83852843row12_col1\" class=\"data row12 col1\" >0.191983</td>\n",
       "                        <td id=\"T_fc8e8136_67bf_11e9_98ff_b46d83852843row12_col2\" class=\"data row12 col2\" >0.5</td>\n",
       "                        <td id=\"T_fc8e8136_67bf_11e9_98ff_b46d83852843row12_col3\" class=\"data row12 col3\" >0.438489</td>\n",
       "            </tr>\n",
       "            <tr>\n",
       "                                <th id=\"T_fc8e8136_67bf_11e9_98ff_b46d83852843level1_row13\" class=\"row_heading level1 row13\" >zifa_full</th>\n",
       "                        <td id=\"T_fc8e8136_67bf_11e9_98ff_b46d83852843row13_col0\" class=\"data row13 col0\" >0.217917</td>\n",
       "                        <td id=\"T_fc8e8136_67bf_11e9_98ff_b46d83852843row13_col1\" class=\"data row13 col1\" >0.117482</td>\n",
       "                        <td id=\"T_fc8e8136_67bf_11e9_98ff_b46d83852843row13_col2\" class=\"data row13 col2\" >0.189606</td>\n",
       "                        <td id=\"T_fc8e8136_67bf_11e9_98ff_b46d83852843row13_col3\" class=\"data row13 col3\" >0.098873</td>\n",
       "            </tr>\n",
       "            <tr>\n",
       "                                <th id=\"T_fc8e8136_67bf_11e9_98ff_b46d83852843level1_row14\" class=\"row_heading level1 row14\" >zinb</th>\n",
       "                        <td id=\"T_fc8e8136_67bf_11e9_98ff_b46d83852843row14_col0\" class=\"data row14 col0\" >0.29375</td>\n",
       "                        <td id=\"T_fc8e8136_67bf_11e9_98ff_b46d83852843row14_col1\" class=\"data row14 col1\" >0.135458</td>\n",
       "                        <td id=\"T_fc8e8136_67bf_11e9_98ff_b46d83852843row14_col2\" class=\"data row14 col2\" >0.561511</td>\n",
       "                        <td id=\"T_fc8e8136_67bf_11e9_98ff_b46d83852843row14_col3\" class=\"data row14 col3\" >0.5</td>\n",
       "            </tr>\n",
       "    </tbody></table>"
      ],
      "text/plain": [
       "<pandas.io.formats.style.Styler at 0x7f5712eb9be0>"
      ]
     },
     "execution_count": 10,
     "metadata": {},
     "output_type": "execute_result"
    }
   ],
   "source": [
    "def get_summary(gby):\n",
    "    res = {}\n",
    "    res['mean'] = gby.mean()\n",
    "    res['std'] = gby.std()\n",
    "    res['pvals_against_nb'] = pvals_against_nb[gby.name]\n",
    "    res['pvals_against_zi'] = pvals_against_zinb[gby.name]\n",
    "    return pd.DataFrame(res).T\n",
    "\n",
    "# df_summary = df.groupby('model')['ll_ll', 'imputation_median_imputation_score', 't_dropout_ks_stat',\n",
    "#                                  't_ratio_ks_stat', 't_cv_ks_stat'].agg(['mean', 'std']).T\n",
    "df_summary = df.groupby('model')[metrics].apply(get_summary)\n",
    "df_summary\n",
    "\n",
    "\n",
    "def my_styler(val):\n",
    "    \"\"\"\n",
    "    Takes a scalar and returns a string with\n",
    "    the css property `'color: red'` for negative\n",
    "    strings, black otherwise.\n",
    "    \"\"\"\n",
    "#     print(val)\n",
    "    style = ['background-color: yellow' if v < 0.05 else '' for v in val]\n",
    "    return style\n",
    "\n",
    "df_summary = df_summary.stack().unstack(1).sort_index(level=1).swaplevel()\n",
    "style = df_summary.style.apply(my_styler, subset=['pvals_against_nb', 'pvals_against_zi'], axis=1)\n",
    "style\n",
    "# df_summary.loc[pd.IndexSlice[pd.IndexSlice[:, 'pvals'], :]].style.background_gradient()\n",
    "# df_summary.style.apply(my_styler, subset=pd.IndexSlice[:, 'pvals'], axis=0)\n",
    "# df_summary = df_summary.style.apply(my_styler, subset=pd.IndexSlice[pd.IndexSlice[:, 'pvals'], :], axis=1).render()\n",
    "# df_summary.pivot(index=['model', ['mean', 'std', 'pvals']], columns=metrics)\n",
    "# style"
   ]
  },
  {
   "cell_type": "code",
   "execution_count": 9,
   "metadata": {
    "pycharm": {}
   },
   "outputs": [
    {
     "ename": "TypeError",
     "evalue": "expected string or bytes-like object",
     "output_type": "error",
     "traceback": [
      "\u001b[0;31m---------------------------------------------------------------------------\u001b[0m",
      "\u001b[0;31mTypeError\u001b[0m                                 Traceback (most recent call last)",
      "\u001b[0;32m<ipython-input-9-0e21cb962125>\u001b[0m in \u001b[0;36m<module>\u001b[0;34m\u001b[0m\n\u001b[1;32m      1\u001b[0m \u001b[0;31m# save as png\u001b[0m\u001b[0;34m\u001b[0m\u001b[0;34m\u001b[0m\u001b[0;34m\u001b[0m\u001b[0m\n\u001b[1;32m      2\u001b[0m \u001b[0;32mimport\u001b[0m \u001b[0mimgkit\u001b[0m\u001b[0;34m\u001b[0m\u001b[0;34m\u001b[0m\u001b[0m\n\u001b[0;32m----> 3\u001b[0;31m \u001b[0mimgkit\u001b[0m\u001b[0;34m.\u001b[0m\u001b[0mfrom_string\u001b[0m\u001b[0;34m(\u001b[0m\u001b[0mstyle\u001b[0m\u001b[0;34m,\u001b[0m \u001b[0mos\u001b[0m\u001b[0;34m.\u001b[0m\u001b[0mpath\u001b[0m\u001b[0;34m.\u001b[0m\u001b[0mjoin\u001b[0m\u001b[0;34m(\u001b[0m\u001b[0mdata_path\u001b[0m\u001b[0;34m,\u001b[0m \u001b[0;34m'{}.png'\u001b[0m\u001b[0;34m.\u001b[0m\u001b[0mformat\u001b[0m\u001b[0;34m(\u001b[0m\u001b[0mdataset_name\u001b[0m\u001b[0;34m)\u001b[0m\u001b[0;34m)\u001b[0m\u001b[0;34m)\u001b[0m\u001b[0;34m\u001b[0m\u001b[0;34m\u001b[0m\u001b[0m\n\u001b[0m",
      "\u001b[0;32m~/miniconda3/envs/scvi/lib/python3.6/site-packages/imgkit/api.py\u001b[0m in \u001b[0;36mfrom_string\u001b[0;34m(string, output_path, options, toc, cover, css, config, cover_first)\u001b[0m\n\u001b[1;32m     87\u001b[0m     \"\"\"\n\u001b[1;32m     88\u001b[0m     rtn = IMGKit(string, 'string', options=options, toc=toc, cover=cover, css=css,\n\u001b[0;32m---> 89\u001b[0;31m                  config=config, cover_first=cover_first)\n\u001b[0m\u001b[1;32m     90\u001b[0m     \u001b[0;32mreturn\u001b[0m \u001b[0mrtn\u001b[0m\u001b[0;34m.\u001b[0m\u001b[0mto_img\u001b[0m\u001b[0;34m(\u001b[0m\u001b[0moutput_path\u001b[0m\u001b[0;34m)\u001b[0m\u001b[0;34m\u001b[0m\u001b[0;34m\u001b[0m\u001b[0m\n\u001b[1;32m     91\u001b[0m \u001b[0;34m\u001b[0m\u001b[0m\n",
      "\u001b[0;32m~/miniconda3/envs/scvi/lib/python3.6/site-packages/imgkit/imgkit.py\u001b[0m in \u001b[0;36m__init__\u001b[0;34m(self, url_or_file, source_type, options, toc, cover, css, config, cover_first)\u001b[0m\n\u001b[1;32m     42\u001b[0m         \u001b[0mself\u001b[0m\u001b[0;34m.\u001b[0m\u001b[0moptions\u001b[0m \u001b[0;34m=\u001b[0m \u001b[0;34m{\u001b[0m\u001b[0;34m}\u001b[0m\u001b[0;34m\u001b[0m\u001b[0;34m\u001b[0m\u001b[0m\n\u001b[1;32m     43\u001b[0m         \u001b[0;32mif\u001b[0m \u001b[0mself\u001b[0m\u001b[0;34m.\u001b[0m\u001b[0msource\u001b[0m\u001b[0;34m.\u001b[0m\u001b[0misString\u001b[0m\u001b[0;34m(\u001b[0m\u001b[0;34m)\u001b[0m\u001b[0;34m:\u001b[0m\u001b[0;34m\u001b[0m\u001b[0;34m\u001b[0m\u001b[0m\n\u001b[0;32m---> 44\u001b[0;31m             \u001b[0mself\u001b[0m\u001b[0;34m.\u001b[0m\u001b[0moptions\u001b[0m\u001b[0;34m.\u001b[0m\u001b[0mupdate\u001b[0m\u001b[0;34m(\u001b[0m\u001b[0mself\u001b[0m\u001b[0;34m.\u001b[0m\u001b[0m_find_options_in_meta\u001b[0m\u001b[0;34m(\u001b[0m\u001b[0murl_or_file\u001b[0m\u001b[0;34m)\u001b[0m\u001b[0;34m)\u001b[0m\u001b[0;34m\u001b[0m\u001b[0;34m\u001b[0m\u001b[0m\n\u001b[0m\u001b[1;32m     45\u001b[0m \u001b[0;34m\u001b[0m\u001b[0m\n\u001b[1;32m     46\u001b[0m         \u001b[0;32mif\u001b[0m \u001b[0moptions\u001b[0m\u001b[0;34m:\u001b[0m\u001b[0;34m\u001b[0m\u001b[0;34m\u001b[0m\u001b[0m\n",
      "\u001b[0;32m~/miniconda3/envs/scvi/lib/python3.6/site-packages/imgkit/imgkit.py\u001b[0m in \u001b[0;36m_find_options_in_meta\u001b[0;34m(self, content)\u001b[0m\n\u001b[1;32m    199\u001b[0m         \u001b[0mfound\u001b[0m \u001b[0;34m=\u001b[0m \u001b[0;34m{\u001b[0m\u001b[0;34m}\u001b[0m\u001b[0;34m\u001b[0m\u001b[0;34m\u001b[0m\u001b[0m\n\u001b[1;32m    200\u001b[0m \u001b[0;34m\u001b[0m\u001b[0m\n\u001b[0;32m--> 201\u001b[0;31m         \u001b[0;32mfor\u001b[0m \u001b[0mx\u001b[0m \u001b[0;32min\u001b[0m \u001b[0mre\u001b[0m\u001b[0;34m.\u001b[0m\u001b[0mfindall\u001b[0m\u001b[0;34m(\u001b[0m\u001b[0;34m'<meta [^>]*>'\u001b[0m\u001b[0;34m,\u001b[0m \u001b[0mcontent\u001b[0m\u001b[0;34m)\u001b[0m\u001b[0;34m:\u001b[0m\u001b[0;34m\u001b[0m\u001b[0;34m\u001b[0m\u001b[0m\n\u001b[0m\u001b[1;32m    202\u001b[0m             \u001b[0;32mif\u001b[0m \u001b[0mre\u001b[0m\u001b[0;34m.\u001b[0m\u001b[0msearch\u001b[0m\u001b[0;34m(\u001b[0m\u001b[0;34m'name=[\"\\']%s'\u001b[0m \u001b[0;34m%\u001b[0m \u001b[0mself\u001b[0m\u001b[0;34m.\u001b[0m\u001b[0mconfig\u001b[0m\u001b[0;34m.\u001b[0m\u001b[0mmeta_tag_prefix\u001b[0m\u001b[0;34m,\u001b[0m \u001b[0mx\u001b[0m\u001b[0;34m)\u001b[0m\u001b[0;34m:\u001b[0m\u001b[0;34m\u001b[0m\u001b[0;34m\u001b[0m\u001b[0m\n\u001b[1;32m    203\u001b[0m                 name = re.findall('name=[\"\\']%s([^\"\\']*)' %\n",
      "\u001b[0;32m~/miniconda3/envs/scvi/lib/python3.6/re.py\u001b[0m in \u001b[0;36mfindall\u001b[0;34m(pattern, string, flags)\u001b[0m\n\u001b[1;32m    220\u001b[0m \u001b[0;34m\u001b[0m\u001b[0m\n\u001b[1;32m    221\u001b[0m     Empty matches are included in the result.\"\"\"\n\u001b[0;32m--> 222\u001b[0;31m     \u001b[0;32mreturn\u001b[0m \u001b[0m_compile\u001b[0m\u001b[0;34m(\u001b[0m\u001b[0mpattern\u001b[0m\u001b[0;34m,\u001b[0m \u001b[0mflags\u001b[0m\u001b[0;34m)\u001b[0m\u001b[0;34m.\u001b[0m\u001b[0mfindall\u001b[0m\u001b[0;34m(\u001b[0m\u001b[0mstring\u001b[0m\u001b[0;34m)\u001b[0m\u001b[0;34m\u001b[0m\u001b[0;34m\u001b[0m\u001b[0m\n\u001b[0m\u001b[1;32m    223\u001b[0m \u001b[0;34m\u001b[0m\u001b[0m\n\u001b[1;32m    224\u001b[0m \u001b[0;32mdef\u001b[0m \u001b[0mfinditer\u001b[0m\u001b[0;34m(\u001b[0m\u001b[0mpattern\u001b[0m\u001b[0;34m,\u001b[0m \u001b[0mstring\u001b[0m\u001b[0;34m,\u001b[0m \u001b[0mflags\u001b[0m\u001b[0;34m=\u001b[0m\u001b[0;36m0\u001b[0m\u001b[0;34m)\u001b[0m\u001b[0;34m:\u001b[0m\u001b[0;34m\u001b[0m\u001b[0;34m\u001b[0m\u001b[0m\n",
      "\u001b[0;31mTypeError\u001b[0m: expected string or bytes-like object"
     ]
    }
   ],
   "source": [
    "# save as png\n",
    "import imgkit\n",
    "imgkit.from_string(style, os.path.join(data_path, '{}.png'.format(dataset_name)))"
   ]
  },
  {
   "cell_type": "code",
   "execution_count": null,
   "metadata": {
    "pycharm": {}
   },
   "outputs": [],
   "source": [
    "# save as latex table"
   ]
  },
  {
   "cell_type": "code",
   "execution_count": null,
   "metadata": {
    "pycharm": {}
   },
   "outputs": [],
   "source": [
    "text_file = open(os.path.join(data_path, 'latex_table.txt'), \"w\")\n",
    "text_file.write(df_summary.to_latex())\n",
    "text_file.close()"
   ]
  },
  {
   "cell_type": "code",
   "execution_count": null,
   "metadata": {
    "pycharm": {}
   },
   "outputs": [],
   "source": []
  }
 ],
 "metadata": {
  "kernelspec": {
   "display_name": "Python 3",
   "language": "python",
   "name": "python3"
  },
  "language_info": {
   "codemirror_mode": {
    "name": "ipython",
    "version": 3
   },
   "file_extension": ".py",
   "mimetype": "text/x-python",
   "name": "python",
   "nbconvert_exporter": "python",
   "pygments_lexer": "ipython3",
   "version": "3.6.7"
  }
 },
 "nbformat": 4,
 "nbformat_minor": 2
}
